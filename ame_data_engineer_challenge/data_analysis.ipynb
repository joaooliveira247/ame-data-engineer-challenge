{
 "cells": [
  {
   "cell_type": "code",
   "execution_count": 1,
   "metadata": {},
   "outputs": [
    {
     "name": "stderr",
     "output_type": "stream",
     "text": [
      "24/06/13 14:39:03 WARN Utils: Your hostname, IdeaPad-Gaming-3-15IHU6 resolves to a loopback address: 127.0.1.1; using 192.168.1.4 instead (on interface wlp0s20f3)\n",
      "24/06/13 14:39:03 WARN Utils: Set SPARK_LOCAL_IP if you need to bind to another address\n",
      "24/06/13 14:39:03 WARN NativeCodeLoader: Unable to load native-hadoop library for your platform... using builtin-java classes where applicable\n",
      "Setting default log level to \"WARN\".\n",
      "To adjust logging level use sc.setLogLevel(newLevel). For SparkR, use setLogLevel(newLevel).\n"
     ]
    }
   ],
   "source": [
    "import pyspark.sql.functions as F\n",
    "from core.connection import get_from_database, get_session\n",
    "\n",
    "spark = get_session()"
   ]
  },
  {
   "cell_type": "markdown",
   "metadata": {},
   "source": [
    "### Import data from database to spark-warehouse"
   ]
  },
  {
   "cell_type": "code",
   "execution_count": 2,
   "metadata": {},
   "outputs": [
    {
     "name": "stderr",
     "output_type": "stream",
     "text": [
      "                                                                                \r"
     ]
    },
    {
     "name": "stdout",
     "output_type": "stream",
     "text": [
      "+---------+--------------------+-----------+\n",
      "|namespace|           tableName|isTemporary|\n",
      "+---------+--------------------+-----------+\n",
      "|  default|communications_tools|      false|\n",
      "|  default|             company|      false|\n",
      "|  default|             country|      false|\n",
      "|  default|    operation_system|      false|\n",
      "|  default|programming_language|      false|\n",
      "|  default|resp_programming_...|      false|\n",
      "|  default|          resp_tools|      false|\n",
      "|  default|          respondent|      false|\n",
      "+---------+--------------------+-----------+\n",
      "\n"
     ]
    }
   ],
   "source": [
    "dw_ame = get_from_database(spark, \"information_schema.tables\")\n",
    "tables = (\n",
    "    dw_ame.select(\"table_name\")\n",
    "    .where(F.col(\"table_schema\") == \"public\")\n",
    "    .rdd.flatMap(lambda x: x)\n",
    "    .collect()\n",
    ")\n",
    "for table in tables:\n",
    "    get_from_database(spark, table).write.saveAsTable(table)\n",
    "\n",
    "spark.sql(\"SHOW TABLES;\").show()"
   ]
  },
  {
   "cell_type": "markdown",
   "metadata": {},
   "source": [
    "1. Qual a quantidade de respondentes de cada país?"
   ]
  },
  {
   "cell_type": "code",
   "execution_count": 7,
   "metadata": {},
   "outputs": [
    {
     "name": "stdout",
     "output_type": "stream",
     "text": [
      "+--------------------+-----+\n",
      "|             country|total|\n",
      "+--------------------+-----+\n",
      "|       United States| 2350|\n",
      "|               India| 1124|\n",
      "|      United Kingdom|  749|\n",
      "|             Germany|  655|\n",
      "|              Canada|  360|\n",
      "|              France|  278|\n",
      "|  Russian Federation|  270|\n",
      "|              Brazil|  255|\n",
      "|              Poland|  233|\n",
      "|               Spain|  203|\n",
      "|           Australia|  194|\n",
      "|         Netherlands|  193|\n",
      "|               Italy|  166|\n",
      "|              Sweden|  129|\n",
      "|             Ukraine|  109|\n",
      "|         Switzerland|  107|\n",
      "|              Israel|  101|\n",
      "|              Turkey|   98|\n",
      "|               China|   92|\n",
      "|Iran, Islamic Rep...|   89|\n",
      "+--------------------+-----+\n",
      "only showing top 20 rows\n",
      "\n"
     ]
    }
   ],
   "source": [
    "spark.sql(\n",
    "    \"\"\"\n",
    "SELECT \n",
    "    c.name AS country, COUNT(c.name) AS total \n",
    "FROM \n",
    "    respondent r \n",
    "INNER JOIN \n",
    "    country c ON r.country_id = c.id \n",
    "GROUP BY country \n",
    "ORDER BY total DESC;\n",
    "\"\"\"\n",
    "    ).show()"
   ]
  }
 ],
 "metadata": {
  "kernelspec": {
   "display_name": "ame-data-engineer-challenge-GmjWWdal-py3.10",
   "language": "python",
   "name": "python3"
  },
  "language_info": {
   "codemirror_mode": {
    "name": "ipython",
    "version": 3
   },
   "file_extension": ".py",
   "mimetype": "text/x-python",
   "name": "python",
   "nbconvert_exporter": "python",
   "pygments_lexer": "ipython3",
   "version": "3.10.12"
  }
 },
 "nbformat": 4,
 "nbformat_minor": 2
}
