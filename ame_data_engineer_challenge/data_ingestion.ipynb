{
 "cells": [
  {
   "cell_type": "code",
   "execution_count": 2,
   "metadata": {},
   "outputs": [],
   "source": [
    "from core.connection import get_session, save_on_database\n",
    "from core.config import settings\n",
    "from pyspark.sql import SparkSession\n",
    "from pyspark.sql import DataFrame\n",
    "import pyspark.sql.functions as F\n",
    "import pyspark.sql.types as T\n",
    "\n",
    "spark: SparkSession = get_session()"
   ]
  },
  {
   "cell_type": "markdown",
   "metadata": {},
   "source": [
    "# 🥉 Bronze Layer"
   ]
  },
  {
   "cell_type": "markdown",
   "metadata": {},
   "source": [
    "### Load data from csv"
   ]
  },
  {
   "cell_type": "code",
   "execution_count": 3,
   "metadata": {},
   "outputs": [
    {
     "name": "stderr",
     "output_type": "stream",
     "text": [
      "24/06/26 14:13:13 WARN SparkStringUtils: Truncated the string representation of a plan since it was too large. This behavior can be adjusted by setting 'spark.sql.debug.maxToStringFields'.\n"
     ]
    },
    {
     "name": "stdout",
     "output_type": "stream",
     "text": [
      "+----------+-----+----------+--------------+--------------+------------------+--------------------+--------------------+--------------------+--------------------+----------------+---------------+--------------------+--------------------+--------------------+--------------------+--------------------+----------+----------+----------+----------+----------+----------+----------+----------+----------+-----------+---------------+---------------+---------------+---------------+---------------+---------------+---------------+---------------+---------------+----------------+----------------+---------------------+---------------------+---------------------+---------------------+---------------------+-------------------+-------------------+-------------------+-------------------+-------------------+-------------------+-------------------+--------------------+--------------------+------+----------+---------------+--------------+--------------------+-------------------+--------------------+--------------------+-----------------+--------------------+--------------+--------------+--------------------+--------------------+----------------------+--------------------+----------------------+--------------------+----------------------+-------------------+-----------------------+--------------------+---------------+--------------+--------------------+-----------------+--------------------+---------+----------------+--------------------+--------------------+--------------------+--------------------+--------------------+--------------+--------------+--------------+--------------+--------------+--------------+--------------+--------------------+--------------------+--------------------+--------------------+--------------------+--------------------+--------------------+-------------------+----------------------+--------------------+-----------------------+------------------------+--------------------+---------------------+--------------------------+---------------------------+--------------------+--------------------+--------------------+--------------------+--------------------+--------------------+-------------+--------------------+--------------------+--------------------+--------------------+------+--------------------+--------------------+--------------------+-----------------+----------+----------+--------------------+-------------+\n",
      "|Respondent|Hobby|OpenSource|       Country|       Student|        Employment|     FormalEducation|      UndergradMajor|         CompanySize|             DevType|     YearsCoding|YearsCodingProf|     JobSatisfaction|  CareerSatisfaction|       HopeFiveYears|     JobSearchStatus|          LastNewJob|AssessJob1|AssessJob2|AssessJob3|AssessJob4|AssessJob5|AssessJob6|AssessJob7|AssessJob8|AssessJob9|AssessJob10|AssessBenefits1|AssessBenefits2|AssessBenefits3|AssessBenefits4|AssessBenefits5|AssessBenefits6|AssessBenefits7|AssessBenefits8|AssessBenefits9|AssessBenefits10|AssessBenefits11|JobContactPriorities1|JobContactPriorities2|JobContactPriorities3|JobContactPriorities4|JobContactPriorities5|JobEmailPriorities1|JobEmailPriorities2|JobEmailPriorities3|JobEmailPriorities4|JobEmailPriorities5|JobEmailPriorities6|JobEmailPriorities7|            UpdateCV|            Currency|Salary|SalaryType|ConvertedSalary|CurrencySymbol|  CommunicationTools|TimeFullyProductive|      EducationTypes|     SelfTaughtTypes|TimeAfterBootcamp|    HackathonReasons|AgreeDisagree1|AgreeDisagree2|      AgreeDisagree3|  LanguageWorkedWith|LanguageDesireNextYear|  DatabaseWorkedWith|DatabaseDesireNextYear|  PlatformWorkedWith|PlatformDesireNextYear|FrameworkWorkedWith|FrameworkDesireNextYear|                 IDE|OperatingSystem|NumberMonitors|         Methodology|   VersionControl|         CheckInCode|AdBlocker|AdBlockerDisable|    AdBlockerReasons|   AdsAgreeDisagree1|   AdsAgreeDisagree2|   AdsAgreeDisagree3|          AdsActions|AdsPriorities1|AdsPriorities2|AdsPriorities3|AdsPriorities4|AdsPriorities5|AdsPriorities6|AdsPriorities7|         AIDangerous|       AIInteresting|       AIResponsible|            AIFuture|        EthicsChoice|        EthicsReport|   EthicsResponsible|EthicalImplications|StackOverflowRecommend|  StackOverflowVisit|StackOverflowHasAccount|StackOverflowParticipate|   StackOverflowJobs|StackOverflowDevStory|StackOverflowJobsRecommend|StackOverflowConsiderMember|  HypotheticalTools1|  HypotheticalTools2|  HypotheticalTools3|  HypotheticalTools4|  HypotheticalTools5|            WakeTime|HoursComputer|        HoursOutside|           SkipMeals|    ErgonomicDevices|            Exercise|Gender|   SexualOrientation|    EducationParents|       RaceEthnicity|              Age|Dependents|MilitaryUS|       SurveyTooLong|   SurveyEasy|\n",
      "+----------+-----+----------+--------------+--------------+------------------+--------------------+--------------------+--------------------+--------------------+----------------+---------------+--------------------+--------------------+--------------------+--------------------+--------------------+----------+----------+----------+----------+----------+----------+----------+----------+----------+-----------+---------------+---------------+---------------+---------------+---------------+---------------+---------------+---------------+---------------+----------------+----------------+---------------------+---------------------+---------------------+---------------------+---------------------+-------------------+-------------------+-------------------+-------------------+-------------------+-------------------+-------------------+--------------------+--------------------+------+----------+---------------+--------------+--------------------+-------------------+--------------------+--------------------+-----------------+--------------------+--------------+--------------+--------------------+--------------------+----------------------+--------------------+----------------------+--------------------+----------------------+-------------------+-----------------------+--------------------+---------------+--------------+--------------------+-----------------+--------------------+---------+----------------+--------------------+--------------------+--------------------+--------------------+--------------------+--------------+--------------+--------------+--------------+--------------+--------------+--------------+--------------------+--------------------+--------------------+--------------------+--------------------+--------------------+--------------------+-------------------+----------------------+--------------------+-----------------------+------------------------+--------------------+---------------------+--------------------------+---------------------------+--------------------+--------------------+--------------------+--------------------+--------------------+--------------------+-------------+--------------------+--------------------+--------------------+--------------------+------+--------------------+--------------------+--------------------+-----------------+----------+----------+--------------------+-------------+\n",
      "|         1|  Yes|        No|         Kenya|            No|Employed part-time|Bachelor’s degree...|Mathematics or st...|  20 to 99 employees|Full-stack developer|       3-5 years|      3-5 years| Extremely satisfied| Extremely satisfied|Working as a foun...|I’m not actively ...|Less than a year ago|        10|         7|         8|         1|         2|         5|         3|         4|         9|          6|             NA|             NA|             NA|             NA|             NA|             NA|             NA|             NA|             NA|              NA|              NA|                    3|                    1|                    4|                    2|                    5|                  5|                  6|                  7|                  2|                  1|                  4|                  3|My job status or ...|                  NA|    NA|   Monthly|             NA|           KES|               Slack|One to three months|Taught yourself a...|The official docu...|               NA|To build my profe...|Strongly agree|Strongly agree|Neither Agree nor...|JavaScript;Python...|  JavaScript;Python...|Redis;SQL Server;...|  Redis;SQL Server;...|AWS;Azure;Linux;F...|  AWS;Azure;Linux;F...|       Django;React|           Django;React|Komodo;Vim;Visual...|    Linux-based|             1|         Agile;Scrum|              Git|Multiple times pe...|      Yes|              No|                  NA|      Strongly agree|      Strongly agree|      Strongly agree|Saw an online adv...|             1|             5|             4|             7|             2|             6|             3|\"Artificial intel...|Algorithms making...|The developers or...|I'm excited about...|                  No|   Yes, and publicly|Upper management ...|                Yes|      10 (Very Likely)|Multiple times pe...|                    Yes|    I have never part...|No, I knew that S...|                  Yes|                        NA|                        Yes|Extremely interested|Extremely interested|Extremely interested|Extremely interested|Extremely interested|Between 5:00 - 6:...| 9 - 12 hours|         1 - 2 hours|               Never|       Standing desk|3 - 4 times per week|  Male|Straight or heter...|Bachelor’s degree...|Black or of Afric...|25 - 34 years old|       Yes|        NA|The survey was an...|    Very easy|\n",
      "|         3|  Yes|       Yes|United Kingdom|            No|Employed full-time|Bachelor’s degree...|A natural science...|10,000 or more em...|Database administ...|30 or more years|    18-20 years|Moderately dissat...|Neither satisfied...|Working in a diff...|I am actively loo...|More than 4 years...|         1|         7|        10|         8|         2|         5|         4|         3|         6|          9|              1|              5|              3|              7|             10|              4|             11|              9|              6|               2|               8|                    3|                    1|                    5|                    2|                    4|                  1|                  3|                  4|                  5|                  2|                  6|                  7|I saw an employer...|British pounds st...| 51000|    Yearly|          70841|           GBP|Confluence;Office...|One to three months|Taught yourself a...|The official docu...|               NA|                  NA|         Agree|         Agree|Neither Agree nor...|JavaScript;Python...|             Go;Python|Redis;PostgreSQL;...|            PostgreSQL|               Linux|                 Linux|             Django|                  React|IPython / Jupyter...|    Linux-based|             2|                  NA|   Git;Subversion|A few times per week|      Yes|             Yes|The website I was...|      Somewhat agree|Neither agree nor...|Neither agree nor...|                  NA|             3|             5|             1|             4|             6|             7|             2|Increasing automa...|Increasing automa...|The developers or...|I'm excited about...|Depends on what i...|Depends on what i...|Upper management ...|                Yes|      10 (Very Likely)|A few times per m...|                    Yes|    A few times per m...|                 Yes| No, I have one bu...|                         7|                        Yes|A little bit inte...|A little bit inte...|A little bit inte...|A little bit inte...|A little bit inte...|Between 6:01 - 7:...|  5 - 8 hours|     30 - 59 minutes|               Never|Ergonomic keyboar...|Daily or almost e...|  Male|Straight or heter...|Bachelor’s degree...|White or of Europ...|35 - 44 years old|       Yes|        NA|The survey was an...|Somewhat easy|\n",
      "|         4|  Yes|       Yes| United States|            No|Employed full-time|    Associate degree|Computer science,...|  20 to 99 employees|Engineering manag...|     24-26 years|      6-8 years|Moderately satisfied|Moderately satisfied|Working as a foun...|I’m not actively ...|Less than a year ago|        NA|        NA|        NA|        NA|        NA|        NA|        NA|        NA|        NA|         NA|             NA|             NA|             NA|             NA|             NA|             NA|             NA|             NA|             NA|              NA|              NA|                   NA|                   NA|                   NA|                   NA|                   NA|                 NA|                 NA|                 NA|                 NA|                 NA|                 NA|                 NA|                  NA|                  NA|    NA|        NA|             NA|            NA|                  NA|                 NA|                  NA|                  NA|               NA|                  NA|            NA|            NA|                  NA|                  NA|                    NA|                  NA|                    NA|                  NA|                    NA|                 NA|                     NA|                  NA|             NA|            NA|                  NA|               NA|                  NA|       NA|              NA|                  NA|                  NA|                  NA|                  NA|                  NA|            NA|            NA|            NA|            NA|            NA|            NA|            NA|                  NA|                  NA|                  NA|                  NA|                  NA|                  NA|                  NA|                 NA|                    NA|                  NA|                     NA|                      NA|                  NA|                   NA|                        NA|                         NA|                  NA|                  NA|                  NA|                  NA|                  NA|                  NA|           NA|                  NA|                  NA|                  NA|                  NA|    NA|                  NA|                  NA|                  NA|               NA|        NA|        NA|                  NA|           NA|\n",
      "|         5|   No|        No| United States|            No|Employed full-time|Bachelor’s degree...|Computer science,...|100 to 499 employees|Full-stack developer|     18-20 years|    12-14 years|Neither satisfied...|Slightly dissatis...|Working as a foun...|I’m not actively ...|Less than a year ago|        NA|        NA|        NA|        NA|        NA|        NA|        NA|        NA|        NA|         NA|             NA|             NA|             NA|             NA|             NA|             NA|             NA|             NA|             NA|              NA|              NA|                   NA|                   NA|                   NA|                   NA|                   NA|                 NA|                 NA|                 NA|                 NA|                 NA|                 NA|                 NA|A recruiter conta...|    U.S. dollars ($)|    NA|        NA|             NA|            NA|                  NA|Three to six months|Completed an indu...|The official docu...|               NA|                  NA|      Disagree|      Disagree|   Strongly disagree|C#;JavaScript;SQL...|  C#;JavaScript;SQL...|SQL Server;Micros...|  SQL Server;Micros...|               Azure|                 Azure|                 NA|   Angular;.NET Core...|Visual Studio;Vis...|        Windows|             2|  Agile;Kanban;Scrum|              Git|Multiple times pe...|      Yes|             Yes|The ad-blocking s...|Neither agree nor...|      Somewhat agree|      Somewhat agree|Stopped going to ...|            NA|            NA|            NA|            NA|            NA|            NA|            NA|\"Artificial intel...|\"Artificial intel...|A governmental or...|I don't care abou...|                  No|Yes, but only wit...|Upper management ...|                Yes|      10 (Very Likely)|A few times per week|                    Yes|    A few times per m...|                 Yes| No, I have one bu...|                         8|                        Yes| Somewhat interested| Somewhat interested| Somewhat interested| Somewhat interested| Somewhat interested|Between 6:01 - 7:...| 9 - 12 hours|Less than 30 minutes|3 - 4 times per week|                  NA|I don't typically...|  Male|Straight or heter...|Some college/univ...|White or of Europ...|35 - 44 years old|        No|        No|The survey was an...|Somewhat easy|\n",
      "|         7|  Yes|        No|  South Africa|Yes, part-time|Employed full-time|Some college/univ...|Computer science,...|10,000 or more em...|Data or business ...|       6-8 years|      0-2 years|  Slightly satisfied|Moderately satisfied|Working in a diff...|I’m not actively ...|Between 1 and 2 y...|         8|         5|         7|         1|         2|         6|         4|         3|        10|          9|              1|             10|              2|              4|              8|              3|             11|              7|              5|               9|               6|                    2|                    1|                    4|                    5|                    3|                  7|                  3|                  6|                  2|                  1|                  4|                  5|My job status or ...|South African ran...|260000|    Yearly|          21426|           ZAR|Office / producti...|Three to six months|Taken a part-time...|The official docu...|               NA|                  NA|Strongly agree|         Agree|   Strongly disagree|C;C++;Java;Matlab...|  Assembly;C;C++;Ma...|SQL Server;Postgr...|  PostgreSQL;Oracle...|Arduino;Windows D...|  Arduino;Windows D...|                 NA|                     NA|Notepad++;Visual ...|        Windows|             2|Evidence-based so...|Zip file back-ups|Weekly or a few t...|       No|              NA|                  NA|      Somewhat agree|      Somewhat agree|   Somewhat disagree|Clicked on an onl...|             2|             3|             4|             6|             1|             7|             5|Algorithms making...|Algorithms making...|The developers or...|I'm excited about...|                  No|Yes, but only wit...|Upper management ...|                Yes|      10 (Very Likely)|Daily or almost d...|                    Yes|    Less than once pe...|No, I knew that S...| No, I know what i...|                        NA|                        Yes|Extremely interested|Extremely interested|Extremely interested|Extremely interested|Extremely interested|      Before 5:00 AM|Over 12 hours|         1 - 2 hours|               Never|                  NA|3 - 4 times per week|  Male|Straight or heter...|Some college/univ...|White or of Europ...|18 - 24 years old|       Yes|        NA|The survey was an...|Somewhat easy|\n",
      "+----------+-----+----------+--------------+--------------+------------------+--------------------+--------------------+--------------------+--------------------+----------------+---------------+--------------------+--------------------+--------------------+--------------------+--------------------+----------+----------+----------+----------+----------+----------+----------+----------+----------+-----------+---------------+---------------+---------------+---------------+---------------+---------------+---------------+---------------+---------------+----------------+----------------+---------------------+---------------------+---------------------+---------------------+---------------------+-------------------+-------------------+-------------------+-------------------+-------------------+-------------------+-------------------+--------------------+--------------------+------+----------+---------------+--------------+--------------------+-------------------+--------------------+--------------------+-----------------+--------------------+--------------+--------------+--------------------+--------------------+----------------------+--------------------+----------------------+--------------------+----------------------+-------------------+-----------------------+--------------------+---------------+--------------+--------------------+-----------------+--------------------+---------+----------------+--------------------+--------------------+--------------------+--------------------+--------------------+--------------+--------------+--------------+--------------+--------------+--------------+--------------+--------------------+--------------------+--------------------+--------------------+--------------------+--------------------+--------------------+-------------------+----------------------+--------------------+-----------------------+------------------------+--------------------+---------------------+--------------------------+---------------------------+--------------------+--------------------+--------------------+--------------------+--------------------+--------------------+-------------+--------------------+--------------------+--------------------+--------------------+------+--------------------+--------------------+--------------------+-----------------+----------+----------+--------------------+-------------+\n",
      "only showing top 5 rows\n",
      "\n"
     ]
    }
   ],
   "source": [
    "data: DataFrame = spark.read.csv(\n",
    "    f\"{settings.BASE_DIR / 'data_csv' / 'survey_results_public.csv'}\",\n",
    "    sep=\",\",\n",
    "    header=True,\n",
    "    inferSchema=True,\n",
    ")\n",
    "\n",
    "data.show(5)"
   ]
  },
  {
   "cell_type": "markdown",
   "metadata": {},
   "source": [
    "## Select only data used in Data Warehouse"
   ]
  },
  {
   "cell_type": "code",
   "execution_count": 4,
   "metadata": {},
   "outputs": [
    {
     "name": "stdout",
     "output_type": "stream",
     "text": [
      "+----------+-----+----------+---------------+--------------------+--------------------+---------------+--------------------+--------------+\n",
      "|Respondent|Hobby|OpenSource|ConvertedSalary|  CommunicationTools|  LanguageWorkedWith|OperatingSystem|         CompanySize|       Country|\n",
      "+----------+-----+----------+---------------+--------------------+--------------------+---------------+--------------------+--------------+\n",
      "|         1|  Yes|        No|             NA|               Slack|JavaScript;Python...|    Linux-based|  20 to 99 employees|         Kenya|\n",
      "|         3|  Yes|       Yes|          70841|Confluence;Office...|JavaScript;Python...|    Linux-based|10,000 or more em...|United Kingdom|\n",
      "|         4|  Yes|       Yes|             NA|                  NA|                  NA|             NA|  20 to 99 employees| United States|\n",
      "|         5|   No|        No|             NA|                  NA|C#;JavaScript;SQL...|        Windows|100 to 499 employees| United States|\n",
      "|         7|  Yes|        No|          21426|Office / producti...|C;C++;Java;Matlab...|        Windows|10,000 or more em...|  South Africa|\n",
      "+----------+-----+----------+---------------+--------------------+--------------------+---------------+--------------------+--------------+\n",
      "only showing top 5 rows\n",
      "\n"
     ]
    }
   ],
   "source": [
    "data = data.select(\n",
    "    \"Respondent\",\n",
    "    \"Hobby\",\n",
    "    \"OpenSource\",\n",
    "    \"ConvertedSalary\",\n",
    "    \"CommunicationTools\",\n",
    "    \"LanguageWorkedWith\",\n",
    "    \"OperatingSystem\",\n",
    "    \"CompanySize\",\n",
    "    \"Country\",\n",
    ")\n",
    "\n",
    "data.show(5)"
   ]
  },
  {
   "cell_type": "markdown",
   "metadata": {},
   "source": [
    "# 🥈 Silver Layer"
   ]
  },
  {
   "cell_type": "markdown",
   "metadata": {},
   "source": [
    "### Replace Na to None"
   ]
  },
  {
   "cell_type": "code",
   "execution_count": 5,
   "metadata": {},
   "outputs": [],
   "source": [
    "data = data.replace(\"NA\", None)"
   ]
  },
  {
   "cell_type": "markdown",
   "metadata": {},
   "source": [
    "### Create function to add id in dataframe"
   ]
  },
  {
   "cell_type": "code",
   "execution_count": 6,
   "metadata": {},
   "outputs": [],
   "source": [
    "def add_id_column(df: DataFrame, session: SparkSession) -> DataFrame:\n",
    "    df_items = [y for x in df.collect() for y in list(x.asDict().values())]\n",
    "    return session.createDataFrame(\n",
    "        list(enumerate(df_items, start=1)), \"id: int, name: string\"\n",
    "    )"
   ]
  },
  {
   "cell_type": "markdown",
   "metadata": {},
   "source": [
    "### Create dataframe operating_system"
   ]
  },
  {
   "cell_type": "code",
   "execution_count": 7,
   "metadata": {},
   "outputs": [
    {
     "name": "stderr",
     "output_type": "stream",
     "text": [
      "                                                                                \r"
     ]
    },
    {
     "name": "stdout",
     "output_type": "stream",
     "text": [
      "+---+-----------+\n",
      "| id|       name|\n",
      "+---+-----------+\n",
      "|  1|Linux-based|\n",
      "|  2|   BSD/Unix|\n",
      "|  3|      MacOS|\n",
      "|  4|    Windows|\n",
      "+---+-----------+\n",
      "\n"
     ]
    }
   ],
   "source": [
    "operating_system = add_id_column(\n",
    "    data.select(F.col(\"OperatingSystem\").alias(\"name\")).distinct().dropna(),\n",
    "    spark,\n",
    ")\n",
    "operating_system.show()"
   ]
  },
  {
   "cell_type": "markdown",
   "metadata": {},
   "source": [
    "### Create dataframe country"
   ]
  },
  {
   "cell_type": "code",
   "execution_count": 8,
   "metadata": {},
   "outputs": [
    {
     "name": "stderr",
     "output_type": "stream",
     "text": [
      "                                                                                \r"
     ]
    },
    {
     "name": "stdout",
     "output_type": "stream",
     "text": [
      "+---+--------------------+\n",
      "| id|                name|\n",
      "+---+--------------------+\n",
      "|  1|            Paraguay|\n",
      "|  2|The former Yugosl...|\n",
      "|  3|               Yemen|\n",
      "|  4|              Sweden|\n",
      "|  5|  Hong Kong (S.A.R.)|\n",
      "|  6|   Republic of Korea|\n",
      "|  7|         Philippines|\n",
      "|  8|            Malaysia|\n",
      "|  9|           Singapore|\n",
      "| 10|                Fiji|\n",
      "| 11|              Turkey|\n",
      "| 12|             Germany|\n",
      "| 13|            Cambodia|\n",
      "| 14|         Afghanistan|\n",
      "| 15|              Jordan|\n",
      "| 16|              Rwanda|\n",
      "| 17|              France|\n",
      "| 18|              Greece|\n",
      "| 19|           Sri Lanka|\n",
      "| 20|              Taiwan|\n",
      "+---+--------------------+\n",
      "only showing top 20 rows\n",
      "\n"
     ]
    }
   ],
   "source": [
    "country = add_id_column(\n",
    "    data.select(F.col(\"Country\").alias(\"name\")).distinct().dropna(), spark\n",
    ")\n",
    "country.show()"
   ]
  },
  {
   "cell_type": "markdown",
   "metadata": {},
   "source": [
    "### Create dataframe company"
   ]
  },
  {
   "cell_type": "code",
   "execution_count": 9,
   "metadata": {},
   "outputs": [
    {
     "name": "stderr",
     "output_type": "stream",
     "text": [
      "                                                                                \r"
     ]
    },
    {
     "name": "stdout",
     "output_type": "stream",
     "text": [
      "+---+--------------------+\n",
      "| id|                name|\n",
      "+---+--------------------+\n",
      "|  1|Fewer than 10 emp...|\n",
      "|  2|100 to 499 employees|\n",
      "|  3|5,000 to 9,999 em...|\n",
      "|  4|1,000 to 4,999 em...|\n",
      "|  5|  20 to 99 employees|\n",
      "|  6|500 to 999 employees|\n",
      "|  7|10,000 or more em...|\n",
      "|  8|  10 to 19 employees|\n",
      "+---+--------------------+\n",
      "\n"
     ]
    }
   ],
   "source": [
    "company = add_id_column(\n",
    "    data.select(F.col(\"CompanySize\").alias(\"size\")).distinct().dropna(), spark\n",
    ")\n",
    "company.show()"
   ]
  },
  {
   "cell_type": "markdown",
   "metadata": {},
   "source": [
    "## Create dataframe respondent"
   ]
  },
  {
   "cell_type": "code",
   "execution_count": 10,
   "metadata": {},
   "outputs": [
    {
     "name": "stdout",
     "output_type": "stream",
     "text": [
      "+----------+-----+----------+---------------+---------------+--------------------+--------------+\n",
      "|Respondent|Hobby|OpenSource|ConvertedSalary|OperatingSystem|         CompanySize|       Country|\n",
      "+----------+-----+----------+---------------+---------------+--------------------+--------------+\n",
      "|         1|  Yes|        No|           NULL|    Linux-based|  20 to 99 employees|         Kenya|\n",
      "|         3|  Yes|       Yes|          70841|    Linux-based|10,000 or more em...|United Kingdom|\n",
      "|         4|  Yes|       Yes|           NULL|           NULL|  20 to 99 employees| United States|\n",
      "|         5|   No|        No|           NULL|        Windows|100 to 499 employees| United States|\n",
      "|         7|  Yes|        No|          21426|        Windows|10,000 or more em...|  South Africa|\n",
      "+----------+-----+----------+---------------+---------------+--------------------+--------------+\n",
      "only showing top 5 rows\n",
      "\n"
     ]
    }
   ],
   "source": [
    "respondent = data.select(\n",
    "    \"Respondent\",\n",
    "    \"Hobby\",\n",
    "    \"OpenSource\",\n",
    "    \"ConvertedSalary\",\n",
    "    \"OperatingSystem\",\n",
    "    \"CompanySize\",\n",
    "    \"Country\"\n",
    ")\n",
    "respondent.show(5)"
   ]
  },
  {
   "cell_type": "markdown",
   "metadata": {},
   "source": [
    "### Add id column"
   ]
  },
  {
   "cell_type": "code",
   "execution_count": 11,
   "metadata": {},
   "outputs": [
    {
     "name": "stdout",
     "output_type": "stream",
     "text": [
      "+----------+-----+----------+---------------+---------------+--------------------+--------------+---+\n",
      "|Respondent|Hobby|OpenSource|ConvertedSalary|OperatingSystem|         CompanySize|       Country| id|\n",
      "+----------+-----+----------+---------------+---------------+--------------------+--------------+---+\n",
      "|         1|  Yes|        No|           NULL|    Linux-based|  20 to 99 employees|         Kenya|  1|\n",
      "|         3|  Yes|       Yes|          70841|    Linux-based|10,000 or more em...|United Kingdom|  3|\n",
      "|         4|  Yes|       Yes|           NULL|           NULL|  20 to 99 employees| United States|  4|\n",
      "|         5|   No|        No|           NULL|        Windows|100 to 499 employees| United States|  5|\n",
      "|         7|  Yes|        No|          21426|        Windows|10,000 or more em...|  South Africa|  7|\n",
      "+----------+-----+----------+---------------+---------------+--------------------+--------------+---+\n",
      "only showing top 5 rows\n",
      "\n"
     ]
    }
   ],
   "source": [
    "respondent = respondent.withColumn(\"id\", F.col(\"Respondent\"))\n",
    "respondent.show(5)"
   ]
  },
  {
   "cell_type": "markdown",
   "metadata": {},
   "source": [
    "### Change respondent name as described in the challenge.\n"
   ]
  },
  {
   "cell_type": "code",
   "execution_count": 12,
   "metadata": {},
   "outputs": [
    {
     "name": "stdout",
     "output_type": "stream",
     "text": [
      "+-----+----------+---------------+---------------+--------------------+--------------+---+------------+\n",
      "|Hobby|OpenSource|ConvertedSalary|OperatingSystem|         CompanySize|       Country| id|        name|\n",
      "+-----+----------+---------------+---------------+--------------------+--------------+---+------------+\n",
      "|  Yes|        No|           NULL|    Linux-based|  20 to 99 employees|         Kenya|  1|respondent_1|\n",
      "|  Yes|       Yes|          70841|    Linux-based|10,000 or more em...|United Kingdom|  3|respondent_3|\n",
      "|  Yes|       Yes|           NULL|           NULL|  20 to 99 employees| United States|  4|respondent_4|\n",
      "|   No|        No|           NULL|        Windows|100 to 499 employees| United States|  5|respondent_5|\n",
      "|  Yes|        No|          21426|        Windows|10,000 or more em...|  South Africa|  7|respondent_7|\n",
      "+-----+----------+---------------+---------------+--------------------+--------------+---+------------+\n",
      "only showing top 5 rows\n",
      "\n"
     ]
    }
   ],
   "source": [
    "@F.udf(returnType=T.StringType())\n",
    "def _add_name_prefix(x):\n",
    "    return f\"respondent_{x}\"\n",
    "\n",
    "\n",
    "respondent = respondent.withColumn(\"name\", _add_name_prefix(F.col(\"Respondent\"))).drop(\n",
    "    \"Respondent\"\n",
    ")\n",
    "respondent.show(5)"
   ]
  },
  {
   "cell_type": "markdown",
   "metadata": {},
   "source": [
    "#### Create function to reference id from database & replace value"
   ]
  },
  {
   "cell_type": "code",
   "execution_count": 13,
   "metadata": {},
   "outputs": [],
   "source": [
    "def get_reference_from_dataframe(df: DataFrame) -> dict[str, int]:\n",
    "    return {v: k for k, v in dict(df.collect()).items()}\n",
    "\n",
    "\n",
    "def replace_value(x, to_replace: dict):\n",
    "    return to_replace.get(x, T.NullType())"
   ]
  },
  {
   "cell_type": "markdown",
   "metadata": {},
   "source": [
    "### create column company_id"
   ]
  },
  {
   "cell_type": "code",
   "execution_count": 15,
   "metadata": {},
   "outputs": [
    {
     "name": "stdout",
     "output_type": "stream",
     "text": [
      "+-----+----------+---------------+---------------+--------------+---+------------+----------+\n",
      "|Hobby|OpenSource|ConvertedSalary|OperatingSystem|       Country| id|        name|company_id|\n",
      "+-----+----------+---------------+---------------+--------------+---+------------+----------+\n",
      "|  Yes|        No|           NULL|    Linux-based|         Kenya|  1|respondent_1|         5|\n",
      "|  Yes|       Yes|          70841|    Linux-based|United Kingdom|  3|respondent_3|         7|\n",
      "|  Yes|       Yes|           NULL|           NULL| United States|  4|respondent_4|         5|\n",
      "|   No|        No|           NULL|        Windows| United States|  5|respondent_5|         2|\n",
      "|  Yes|        No|          21426|        Windows|  South Africa|  7|respondent_7|         7|\n",
      "+-----+----------+---------------+---------------+--------------+---+------------+----------+\n",
      "only showing top 5 rows\n",
      "\n"
     ]
    }
   ],
   "source": [
    "company_ref = get_reference_from_dataframe(company)\n",
    "\n",
    "\n",
    "@F.udf(returnType=T.IntegerType())\n",
    "def company_replace_udf(x):\n",
    "    return replace_value(x, company_ref)\n",
    "\n",
    "\n",
    "respondent = respondent.withColumn(\n",
    "    \"company_id\", company_replace_udf(F.col(\"CompanySize\"))\n",
    ").drop(\"CompanySize\")\n",
    "respondent.show(5)"
   ]
  },
  {
   "cell_type": "markdown",
   "metadata": {},
   "source": [
    "#### create column operation_system_id"
   ]
  },
  {
   "cell_type": "code",
   "execution_count": 16,
   "metadata": {},
   "outputs": [
    {
     "name": "stdout",
     "output_type": "stream",
     "text": [
      "+-----+----------+---------------+--------------+---+------------+----------+-------------------+\n",
      "|Hobby|OpenSource|ConvertedSalary|       Country| id|        name|company_id|operation_system_id|\n",
      "+-----+----------+---------------+--------------+---+------------+----------+-------------------+\n",
      "|  Yes|        No|           NULL|         Kenya|  1|respondent_1|         5|                  1|\n",
      "|  Yes|       Yes|          70841|United Kingdom|  3|respondent_3|         7|                  1|\n",
      "|  Yes|       Yes|           NULL| United States|  4|respondent_4|         5|               NULL|\n",
      "|   No|        No|           NULL| United States|  5|respondent_5|         2|                  4|\n",
      "|  Yes|        No|          21426|  South Africa|  7|respondent_7|         7|                  4|\n",
      "+-----+----------+---------------+--------------+---+------------+----------+-------------------+\n",
      "only showing top 5 rows\n",
      "\n"
     ]
    }
   ],
   "source": [
    "os_ref = get_reference_from_dataframe(operating_system)\n",
    "\n",
    "\n",
    "@F.udf(returnType=T.IntegerType())\n",
    "def os_replace_udf(x):\n",
    "    return replace_value(x, os_ref)\n",
    "\n",
    "\n",
    "respondent = respondent.withColumn(\n",
    "    \"operation_system_id\", os_replace_udf(F.col(\"OperatingSystem\"))\n",
    ").drop(\"OperatingSystem\")\n",
    "respondent.show(5)"
   ]
  },
  {
   "cell_type": "markdown",
   "metadata": {},
   "source": [
    "#### create column country_id"
   ]
  },
  {
   "cell_type": "code",
   "execution_count": 17,
   "metadata": {},
   "outputs": [
    {
     "name": "stdout",
     "output_type": "stream",
     "text": [
      "+-----+----------+---------------+---+------------+----------+-------------------+----------+\n",
      "|Hobby|OpenSource|ConvertedSalary| id|        name|company_id|operation_system_id|country_id|\n",
      "+-----+----------+---------------+---+------------+----------+-------------------+----------+\n",
      "|  Yes|        No|           NULL|  1|respondent_1|         5|                  1|        97|\n",
      "|  Yes|       Yes|          70841|  3|respondent_3|         7|                  1|       127|\n",
      "|  Yes|       Yes|           NULL|  4|respondent_4|         5|               NULL|        38|\n",
      "|   No|        No|           NULL|  5|respondent_5|         2|                  4|        38|\n",
      "|  Yes|        No|          21426|  7|respondent_7|         7|                  4|       121|\n",
      "+-----+----------+---------------+---+------------+----------+-------------------+----------+\n",
      "only showing top 5 rows\n",
      "\n"
     ]
    }
   ],
   "source": [
    "country_ref = get_reference_from_dataframe(country)\n",
    "\n",
    "\n",
    "@F.udf(returnType=T.IntegerType())\n",
    "def country_replace_udf(x):\n",
    "    return replace_value(x, country_ref)\n",
    "\n",
    "\n",
    "respondent = respondent.withColumn(\n",
    "    \"country_id\", country_replace_udf(F.col(\"Country\"))\n",
    ").drop(\"Country\")\n",
    "\n",
    "respondent.show(5)"
   ]
  },
  {
   "cell_type": "markdown",
   "metadata": {},
   "source": [
    "### Change ConvertedSalary to Decimal and transform null to 0.0"
   ]
  },
  {
   "cell_type": "code",
   "execution_count": 18,
   "metadata": {},
   "outputs": [
    {
     "name": "stdout",
     "output_type": "stream",
     "text": [
      "+-----+----------+---------------+---+-------------+----------+-------------------+----------+\n",
      "|Hobby|OpenSource|ConvertedSalary| id|         name|company_id|operation_system_id|country_id|\n",
      "+-----+----------+---------------+---+-------------+----------+-------------------+----------+\n",
      "|  Yes|        No|            0.0|  1| respondent_1|         5|                  1|        97|\n",
      "|  Yes|       Yes|        70841.0|  3| respondent_3|         7|                  1|       127|\n",
      "|  Yes|       Yes|            0.0|  4| respondent_4|         5|               NULL|        38|\n",
      "|   No|        No|            0.0|  5| respondent_5|         2|                  4|        38|\n",
      "|  Yes|        No|        21426.0|  7| respondent_7|         7|                  4|       121|\n",
      "|  Yes|        No|        41671.0|  8| respondent_8|         8|                  1|       127|\n",
      "|  Yes|       Yes|       120000.0|  9| respondent_9|         7|                  3|        38|\n",
      "|  Yes|       Yes|            0.0| 10|respondent_10|         8|                  4|        50|\n",
      "|  Yes|       Yes|       250000.0| 11|respondent_11|         2|                  3|        38|\n",
      "|   No|       Yes|            0.0| 16|respondent_16|         6|               NULL|        39|\n",
      "+-----+----------+---------------+---+-------------+----------+-------------------+----------+\n",
      "only showing top 10 rows\n",
      "\n"
     ]
    }
   ],
   "source": [
    "respondent = respondent.withColumn(\n",
    "    \"ConvertedSalary\", respondent[\"ConvertedSalary\"].cast(T.DoubleType())\n",
    ").fillna(0.0, subset=\"ConvertedSalary\")\n",
    "respondent.show(10)"
   ]
  },
  {
   "cell_type": "markdown",
   "metadata": {},
   "source": [
    "#### Transform salary"
   ]
  },
  {
   "cell_type": "code",
   "execution_count": 19,
   "metadata": {},
   "outputs": [
    {
     "name": "stdout",
     "output_type": "stream",
     "text": [
      "+-----+----------+---+------------+----------+-------------------+----------+--------+\n",
      "|Hobby|OpenSource| id|        name|company_id|operation_system_id|country_id|  salary|\n",
      "+-----+----------+---+------------+----------+-------------------+----------+--------+\n",
      "|  Yes|        No|  1|respondent_1|         5|                  1|        97|     0.0|\n",
      "|  Yes|       Yes|  3|respondent_3|         7|                  1|       127|22492.02|\n",
      "|  Yes|       Yes|  4|respondent_4|         5|               NULL|        38|     0.0|\n",
      "|   No|        No|  5|respondent_5|         2|                  4|        38|     0.0|\n",
      "|  Yes|        No|  7|respondent_7|         7|                  4|       121| 6802.76|\n",
      "+-----+----------+---+------------+----------+-------------------+----------+--------+\n",
      "only showing top 5 rows\n",
      "\n"
     ]
    }
   ],
   "source": [
    "@F.udf(returnType=T.DoubleType())\n",
    "def convert_salary(x):\n",
    "    return round((x / settings.YEAR_MONTHS) * settings.DOLLAR_EXCHANGE, 2)\n",
    "\n",
    "\n",
    "respondent = respondent.withColumn(\n",
    "    \"salary\", convert_salary(F.col(\"ConvertedSalary\"))\n",
    ").drop(\"ConvertedSalary\")\n",
    "respondent.show(5)"
   ]
  },
  {
   "cell_type": "markdown",
   "metadata": {},
   "source": [
    "#### transform OpenSource and Hobby column and order dataframe"
   ]
  },
  {
   "cell_type": "code",
   "execution_count": 20,
   "metadata": {},
   "outputs": [
    {
     "name": "stdout",
     "output_type": "stream",
     "text": [
      "+---+------------+-----+--------+-------------------+----------+----------+-----------+\n",
      "| id|        name|hobby|  salary|operation_system_id|country_id|company_id|open_source|\n",
      "+---+------------+-----+--------+-------------------+----------+----------+-----------+\n",
      "|  1|respondent_1| true|     0.0|                  1|        97|         5|      false|\n",
      "|  3|respondent_3| true|22492.02|                  1|       127|         7|       true|\n",
      "|  4|respondent_4| true|     0.0|               NULL|        38|         5|       true|\n",
      "|  5|respondent_5|false|     0.0|                  4|        38|         2|      false|\n",
      "|  7|respondent_7| true| 6802.76|                  4|       121|         7|      false|\n",
      "+---+------------+-----+--------+-------------------+----------+----------+-----------+\n",
      "only showing top 5 rows\n",
      "\n"
     ]
    }
   ],
   "source": [
    "respondent = (\n",
    "    respondent.select(\n",
    "        \"id\",\n",
    "        \"name\",\n",
    "        \"OpenSource\",\n",
    "        \"Hobby\",\n",
    "        \"salary\",\n",
    "        \"operation_system_id\",\n",
    "        \"country_id\",\n",
    "        \"company_id\",\n",
    "    )\n",
    "    .withColumns(\n",
    "        {\n",
    "            \"open_source\": F.col(\"OpenSource\").cast(T.BooleanType()),\n",
    "            \"hobby\": F.col(\"Hobby\").cast(T.BooleanType()),\n",
    "        }\n",
    "    )\n",
    "    .drop(\"OpenSource\")\n",
    ")\n",
    "respondent.show(5)"
   ]
  },
  {
   "cell_type": "markdown",
   "metadata": {},
   "source": [
    "### Create function to separate values in CommunicationTools and LanguageWorkedWith"
   ]
  },
  {
   "cell_type": "code",
   "execution_count": 21,
   "metadata": {},
   "outputs": [],
   "source": [
    "def sep_col_values(df: DataFrame, col: str, sep: str = \";\") -> DataFrame:\n",
    "\n",
    "    col_separated = (\n",
    "        df.select((F.split(col, sep))).rdd.flatMap(lambda x: x).collect()\n",
    "    )\n",
    "\n",
    "    col_separated = set(\n",
    "        [\n",
    "            item\n",
    "            for sublist in col_separated\n",
    "            if sublist is not None\n",
    "            for item in sublist\n",
    "        ]\n",
    "    )\n",
    "\n",
    "    return spark.createDataFrame(\n",
    "        list(enumerate(col_separated, start=1)), \"id: int, name: string\"\n",
    "    )"
   ]
  },
  {
   "cell_type": "markdown",
   "metadata": {},
   "source": [
    "### Create dataframe programming_language"
   ]
  },
  {
   "cell_type": "code",
   "execution_count": 22,
   "metadata": {},
   "outputs": [
    {
     "name": "stderr",
     "output_type": "stream",
     "text": [
      "                                                                                \r"
     ]
    },
    {
     "name": "stdout",
     "output_type": "stream",
     "text": [
      "+---+----------+\n",
      "| id|      name|\n",
      "+---+----------+\n",
      "|  1|      Hack|\n",
      "|  2|      Rust|\n",
      "|  3|      Java|\n",
      "|  4|   Clojure|\n",
      "|  5|       Lua|\n",
      "|  6|     Swift|\n",
      "|  7|       C++|\n",
      "|  8|    Matlab|\n",
      "|  9|JavaScript|\n",
      "| 10|    Kotlin|\n",
      "+---+----------+\n",
      "only showing top 10 rows\n",
      "\n"
     ]
    }
   ],
   "source": [
    "programming_language = sep_col_values(data, \"LanguageWorkedWith\")\n",
    "programming_language.show(10)"
   ]
  },
  {
   "cell_type": "markdown",
   "metadata": {},
   "source": [
    "### Create dataframe communications_tools"
   ]
  },
  {
   "cell_type": "code",
   "execution_count": 23,
   "metadata": {},
   "outputs": [
    {
     "name": "stderr",
     "output_type": "stream",
     "text": [
      "                                                                                \r"
     ]
    },
    {
     "name": "stdout",
     "output_type": "stream",
     "text": [
      "+---+--------------------+\n",
      "| id|                name|\n",
      "+---+--------------------+\n",
      "|  1|Office / producti...|\n",
      "|  2|            Facebook|\n",
      "|  3|                Jira|\n",
      "|  4|Google Hangouts/Chat|\n",
      "|  5|Other chat system...|\n",
      "|  6|              Trello|\n",
      "|  7|Stack Overflow En...|\n",
      "|  8|Other wiki tool (...|\n",
      "|  9|          Confluence|\n",
      "| 10|             HipChat|\n",
      "| 11|               Slack|\n",
      "+---+--------------------+\n",
      "\n"
     ]
    }
   ],
   "source": [
    "communications_tools = sep_col_values(data, \"CommunicationTools\")\n",
    "communications_tools.show()"
   ]
  },
  {
   "cell_type": "markdown",
   "metadata": {},
   "source": [
    "### Create function to separate every language in row"
   ]
  },
  {
   "cell_type": "code",
   "execution_count": 22,
   "metadata": {},
   "outputs": [],
   "source": [
    "def col_list_to_df(df: DataFrame, col: str, sep: str = \";\") -> DataFrame:\n",
    "\n",
    "    data_rdd = df.select(\"id\", F.split(col, \";\")).dropna().rdd.collect()\n",
    "\n",
    "    data_list = [list(zip([b] * len(c), c)) for b, c in data_rdd]\n",
    "\n",
    "    split_data = [y for x in data_list for y in x]\n",
    "\n",
    "    return spark.createDataFrame(\n",
    "        split_data,\n",
    "        T.StructType(\n",
    "            [\n",
    "                T.StructField(\"respondent_id\", T.LongType()),\n",
    "                T.StructField(\"name\", T.StringType()),\n",
    "            ]\n",
    "        ),\n",
    "    )"
   ]
  },
  {
   "cell_type": "markdown",
   "metadata": {},
   "source": [
    "#### Create dataframe resp_programming_language"
   ]
  },
  {
   "cell_type": "code",
   "execution_count": 23,
   "metadata": {},
   "outputs": [
    {
     "name": "stderr",
     "output_type": "stream",
     "text": [
      "                                                                                \r"
     ]
    },
    {
     "name": "stdout",
     "output_type": "stream",
     "text": [
      "+-------------+-----------------------+\n",
      "|respondent_id|programming_language_id|\n",
      "+-------------+-----------------------+\n",
      "|            1|                     27|\n",
      "|            1|                     38|\n",
      "|            1|                     20|\n",
      "|            1|                     25|\n",
      "|            3|                     27|\n",
      "+-------------+-----------------------+\n",
      "only showing top 5 rows\n",
      "\n"
     ]
    }
   ],
   "source": [
    "programming_language_ref = get_reference_from_dataframe(programming_language)\n",
    "\n",
    "resp_programming_language = col_list_to_df(data, \"LanguageWorkedWith\")\n",
    "\n",
    "\n",
    "@F.udf(returnType=T.IntegerType())\n",
    "def programming_replace_udf(x):\n",
    "    return replace_value(x, programming_language_ref)\n",
    "\n",
    "\n",
    "resp_programming_language = resp_programming_language.withColumn(\n",
    "    \"programming_language_id\", programming_replace_udf(F.col(\"name\"))\n",
    ").drop(\"name\")\n",
    "\n",
    "resp_programming_language.show(5)"
   ]
  },
  {
   "cell_type": "markdown",
   "metadata": {},
   "source": [
    "#### Create dataframe resp_tools"
   ]
  },
  {
   "cell_type": "code",
   "execution_count": 24,
   "metadata": {},
   "outputs": [
    {
     "name": "stdout",
     "output_type": "stream",
     "text": [
      "+-------------+-----------------------+\n",
      "|respondent_id|communications_tools_id|\n",
      "+-------------+-----------------------+\n",
      "|            1|                      2|\n",
      "|            3|                     11|\n",
      "|            3|                      4|\n",
      "|            3|                      2|\n",
      "|            3|                      5|\n",
      "+-------------+-----------------------+\n",
      "only showing top 5 rows\n",
      "\n"
     ]
    }
   ],
   "source": [
    "communications_tools_ref = get_reference_from_dataframe(communications_tools)\n",
    "\n",
    "resp_tools = col_list_to_df(data, \"CommunicationTools\")\n",
    "\n",
    "\n",
    "@F.udf(returnType=T.IntegerType())\n",
    "def communication_replace_udf(x):\n",
    "    return replace_value(x, communications_tools_ref)\n",
    "\n",
    "\n",
    "resp_tools = resp_tools.withColumn(\n",
    "    \"communications_tools_id\", communication_replace_udf(F.col(\"name\"))\n",
    ").drop(\"name\")\n",
    "\n",
    "resp_tools.show(5)"
   ]
  }
 ],
 "metadata": {
  "kernelspec": {
   "display_name": "ame-data-engineer-challenge-GmjWWdal-py3.10",
   "language": "python",
   "name": "python3"
  },
  "language_info": {
   "codemirror_mode": {
    "name": "ipython",
    "version": 3
   },
   "file_extension": ".py",
   "mimetype": "text/x-python",
   "name": "python",
   "nbconvert_exporter": "python",
   "pygments_lexer": "ipython3",
   "version": "3.10.12"
  }
 },
 "nbformat": 4,
 "nbformat_minor": 2
}
