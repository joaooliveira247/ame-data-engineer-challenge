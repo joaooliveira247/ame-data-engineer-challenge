{
 "cells": [
  {
   "cell_type": "code",
   "execution_count": 19,
   "metadata": {},
   "outputs": [],
   "source": [
    "from core.connection import get_session, save_on_database\n",
    "from core.config import settings\n",
    "from pyspark.sql import SparkSession\n",
    "from pyspark.sql import DataFrame\n",
    "import pyspark.sql.functions as func\n",
    "from pyspark.sql.types import StringType\n",
    "\n",
    "spark: SparkSession = get_session()"
   ]
  },
  {
   "cell_type": "markdown",
   "metadata": {},
   "source": [
    "### Load data from csv"
   ]
  },
  {
   "cell_type": "code",
   "execution_count": 20,
   "metadata": {},
   "outputs": [
    {
     "name": "stdout",
     "output_type": "stream",
     "text": [
      "+----------+-----+----------+-------------+--------------+------------------+--------------------+--------------------+--------------------+--------------------+-----------+---------------+--------------------+--------------------+--------------------+--------------------+--------------------+----------+----------+----------+----------+----------+----------+----------+----------+----------+-----------+---------------+---------------+---------------+---------------+---------------+---------------+---------------+---------------+---------------+----------------+----------------+---------------------+---------------------+---------------------+---------------------+---------------------+-------------------+-------------------+-------------------+-------------------+-------------------+-------------------+-------------------+--------------------+----------------+------+----------+---------------+--------------+--------------------+-------------------+--------------------+--------------------+--------------------+--------------------+--------------------+--------------------+--------------------+--------------------+----------------------+--------------------+----------------------+--------------------+----------------------+--------------------+-----------------------+--------------------+---------------+--------------+-----------+--------------------+--------------------+---------+----------------+--------------------+-----------------+--------------------+--------------------+--------------------+--------------+--------------+--------------+--------------+--------------+--------------+--------------+--------------------+--------------------+--------------------+--------------------+--------------------+--------------------+--------------------+--------------------+----------------------+--------------------+-----------------------+------------------------+--------------------+---------------------+--------------------------+---------------------------+--------------------+--------------------+--------------------+--------------------+--------------------+--------------------+-------------+--------------------+--------------------+--------------------+--------------------+------+--------------------+--------------------+--------------------+-----------------+----------+----------+--------------------+--------------------+\n",
      "|Respondent|Hobby|OpenSource|      Country|       Student|        Employment|     FormalEducation|      UndergradMajor|         CompanySize|             DevType|YearsCoding|YearsCodingProf|     JobSatisfaction|  CareerSatisfaction|       HopeFiveYears|     JobSearchStatus|          LastNewJob|AssessJob1|AssessJob2|AssessJob3|AssessJob4|AssessJob5|AssessJob6|AssessJob7|AssessJob8|AssessJob9|AssessJob10|AssessBenefits1|AssessBenefits2|AssessBenefits3|AssessBenefits4|AssessBenefits5|AssessBenefits6|AssessBenefits7|AssessBenefits8|AssessBenefits9|AssessBenefits10|AssessBenefits11|JobContactPriorities1|JobContactPriorities2|JobContactPriorities3|JobContactPriorities4|JobContactPriorities5|JobEmailPriorities1|JobEmailPriorities2|JobEmailPriorities3|JobEmailPriorities4|JobEmailPriorities5|JobEmailPriorities6|JobEmailPriorities7|            UpdateCV|        Currency|Salary|SalaryType|ConvertedSalary|CurrencySymbol|  CommunicationTools|TimeFullyProductive|      EducationTypes|     SelfTaughtTypes|   TimeAfterBootcamp|    HackathonReasons|      AgreeDisagree1|      AgreeDisagree2|      AgreeDisagree3|  LanguageWorkedWith|LanguageDesireNextYear|  DatabaseWorkedWith|DatabaseDesireNextYear|  PlatformWorkedWith|PlatformDesireNextYear| FrameworkWorkedWith|FrameworkDesireNextYear|                 IDE|OperatingSystem|NumberMonitors|Methodology|      VersionControl|         CheckInCode|AdBlocker|AdBlockerDisable|    AdBlockerReasons|AdsAgreeDisagree1|   AdsAgreeDisagree2|   AdsAgreeDisagree3|          AdsActions|AdsPriorities1|AdsPriorities2|AdsPriorities3|AdsPriorities4|AdsPriorities5|AdsPriorities6|AdsPriorities7|         AIDangerous|       AIInteresting|       AIResponsible|            AIFuture|        EthicsChoice|        EthicsReport|   EthicsResponsible| EthicalImplications|StackOverflowRecommend|  StackOverflowVisit|StackOverflowHasAccount|StackOverflowParticipate|   StackOverflowJobs|StackOverflowDevStory|StackOverflowJobsRecommend|StackOverflowConsiderMember|  HypotheticalTools1|  HypotheticalTools2|  HypotheticalTools3|  HypotheticalTools4|  HypotheticalTools5|            WakeTime|HoursComputer|        HoursOutside|           SkipMeals|    ErgonomicDevices|            Exercise|Gender|   SexualOrientation|    EducationParents|       RaceEthnicity|              Age|Dependents|MilitaryUS|       SurveyTooLong|          SurveyEasy|\n",
      "+----------+-----+----------+-------------+--------------+------------------+--------------------+--------------------+--------------------+--------------------+-----------+---------------+--------------------+--------------------+--------------------+--------------------+--------------------+----------+----------+----------+----------+----------+----------+----------+----------+----------+-----------+---------------+---------------+---------------+---------------+---------------+---------------+---------------+---------------+---------------+----------------+----------------+---------------------+---------------------+---------------------+---------------------+---------------------+-------------------+-------------------+-------------------+-------------------+-------------------+-------------------+-------------------+--------------------+----------------+------+----------+---------------+--------------+--------------------+-------------------+--------------------+--------------------+--------------------+--------------------+--------------------+--------------------+--------------------+--------------------+----------------------+--------------------+----------------------+--------------------+----------------------+--------------------+-----------------------+--------------------+---------------+--------------+-----------+--------------------+--------------------+---------+----------------+--------------------+-----------------+--------------------+--------------------+--------------------+--------------+--------------+--------------+--------------+--------------+--------------+--------------+--------------------+--------------------+--------------------+--------------------+--------------------+--------------------+--------------------+--------------------+----------------------+--------------------+-----------------------+------------------------+--------------------+---------------------+--------------------------+---------------------------+--------------------+--------------------+--------------------+--------------------+--------------------+--------------------+-------------+--------------------+--------------------+--------------------+--------------------+------+--------------------+--------------------+--------------------+-----------------+----------+----------+--------------------+--------------------+\n",
      "|    101346|   No|        No|United States|            No|Employed full-time|Bachelor’s degree...|A business discip...|100 to 499 employees|  Back-end developer|  0-2 years|      0-2 years|Moderately satisfied|Moderately satisfied| Doing the same work|I’m not actively ...|Less than a year ago|      10.0|       9.0|       5.0|       4.0|       1.0|       2.0|       7.0|       6.0|       3.0|        8.0|            1.0|            4.0|            2.0|            8.0|            6.0|            3.0|           10.0|            5.0|            9.0|            11.0|             7.0|                  3.0|                  1.0|                  5.0|                  2.0|                  4.0|                5.0|                4.0|                2.0|                3.0|                1.0|                6.0|                7.0|My job status or ...|U.S. dollars ($)| 50000|      NULL|        50000.0|           USD|               Slack|One to three months|Taken an online c...|                NULL|Six months to a year|                NULL|               Agree|               Agree|               Agree|C#;JavaScript;SQL...|              Java;PHP|SQL Server;MySQL;...|                  NULL|               Azure|                  NULL|           .NET Core|                   NULL|Notepad++;Visual ...|        Windows|             2|       NULL|I don't use versi...|                NULL|       No|            NULL|                NULL|   Somewhat agree|Neither agree nor...|Neither agree nor...|Stopped going to ...|           1.0|           6.0|           2.0|           3.0|           4.0|           7.0|           5.0|Algorithms making...|Increasing automa...|The developers or...|I don't care abou...|Depends on what i...|Depends on what i...|Upper management ...|                 Yes|      10 (Very Likely)|A few times per m...|                     No|                    NULL|                 Yes|                 NULL|                         8|                         No|Not at all intere...| Somewhat interested|Not at all intere...| Somewhat interested| Somewhat interested|Between 5:00 - 6:...| 9 - 12 hours|     30 - 59 minutes|               Never|                NULL|Daily or almost e...|Female|Straight or heter...|Bachelor’s degree...|White or of Europ...|45 - 54 years old|       Yes|        No|The survey was an...|       Somewhat easy|\n",
      "|     44791|  Yes|        No|      Germany|            No|Employed full-time|Bachelor’s degree...|Computer science,...|1,000 to 4,999 em...|Back-end develope...| 9-11 years|      3-5 years|Extremely dissati...|Slightly dissatis...|Working in a care...|I’m not actively ...|More than 4 years...|       1.0|       6.0|       4.0|       9.0|       3.0|       5.0|       2.0|       8.0|      10.0|        7.0|            1.0|            8.0|           11.0|            6.0|            5.0|            9.0|            4.0|           10.0|            7.0|             3.0|             2.0|                  5.0|                  2.0|                  4.0|                  1.0|                  3.0|                5.0|                2.0|                3.0|                6.0|                1.0|                7.0|                4.0|A recruiter conta...|       Euros (€)| 65000|    Yearly|        79552.0|           EUR|Jira;Other wiki t...|  Less than a month|Taken an online c...|The official docu...|                NULL|                NULL|               Agree|            Disagree|Neither Agree nor...|C;C++;Java;JavaSc...|              C++;Java|             IBM Db2|                  NULL|Linux;Windows Des...|  Linux;Windows Des...|       Node.js;React|                   NULL|Eclipse;Notepad++...|        Windows|             2|Agile;Scrum|                 Git|Multiple times pe...|      Yes|             Yes|The website I was...|Somewhat disagree|   Somewhat disagree|      Strongly agree|Clicked on an onl...|           1.0|           2.0|           5.0|           3.0|           7.0|           6.0|           4.0|\"Evolving definit...|Increasing automa...|A governmental or...|I'm excited about...|                  No|   Yes, and publicly|The developer who...|                 Yes|                     9|Daily or almost d...|                    Yes|    Daily or almost d...|                 Yes|                  Yes|                         6|                        Yes| Somewhat interested|     Very interested|A little bit inte...|Extremely interested| Somewhat interested|Between 5:00 - 6:...| 9 - 12 hours|         3 - 4 hours|               Never|Wrist/hand suppor...|3 - 4 times per week|  Male|Straight or heter...|Other doctoral de...|White or of Europ...|25 - 34 years old|        No|      NULL|The survey was to...|Neither easy nor ...|\n",
      "|     32306|  Yes|       Yes|United States|            No|Employed full-time|Bachelor’s degree...|Computer science,...|10,000 or more em...|Back-end develope...| 9-11 years|      3-5 years|Moderately satisfied|Moderately satisfied| Doing the same work|I am not interest...|Between 2 and 4 y...|       3.0|       8.0|       5.0|       7.0|       1.0|       4.0|       2.0|       6.0|       9.0|       10.0|            1.0|            6.0|            3.0|           11.0|            7.0|            5.0|            2.0|            9.0|           10.0|             4.0|             8.0|                 NULL|                 NULL|                 NULL|                 NULL|                 NULL|               NULL|               NULL|               NULL|               NULL|               NULL|               NULL|               NULL|My job status or ...|U.S. dollars ($)|125000|      NULL|       125000.0|           USD|Office / producti...|One to three months|Taught yourself a...|The official docu...|                NULL|To improve my gen...|               Agree|Neither Agree nor...|   Strongly disagree|Assembly;C;C++;C#...|  C;C++;C#;JavaScri...|                NULL|                  NULL|Amazon Echo;Andro...|  Android;Arduino;A...|.NET Core;Node.js...|   .NET Core;Node.js...|Android Studio;Vi...|        Windows|             3|Agile;Scrum|                 Git|Multiple times pe...|      Yes|              No|                NULL|Strongly disagree|      Somewhat agree|      Strongly agree|Stopped going to ...|           4.0|           3.0|           5.0|           6.0|           1.0|           7.0|           2.0|\"Artificial intel...|\"Artificial intel...|The developers or...|I'm excited about...|Depends on what i...|Depends on what i...|The developer who...|                 Yes|      10 (Very Likely)|A few times per week|                    Yes|    I have never part...|No, I knew that S...| No, and I don't k...|                      NULL|                         No|Not at all intere...|Not at all intere...| Somewhat interested|     Very interested|     Very interested|Between 9:01 - 10...| 9 - 12 hours|     30 - 59 minutes|Daily or almost e...|Ergonomic keyboar...|1 - 2 times per week|  Male|Straight or heter...|Bachelor’s degree...|White or of Europ...|25 - 34 years old|        No|        No|The survey was an...|       Somewhat easy|\n",
      "|     37142|  Yes|        No|United States|Yes, full-time|Employed part-time|Secondary school ...|                NULL|  10 to 19 employees|Front-end develop...|  6-8 years|      0-2 years|  Slightly satisfied|Slightly dissatis...|Working in a diff...|I’m not actively ...|Less than a year ago|       1.0|      10.0|       5.0|       9.0|       4.0|       3.0|       7.0|       2.0|       8.0|        6.0|            2.0|            8.0|            1.0|           10.0|            9.0|            6.0|            3.0|            7.0|           11.0|             4.0|             5.0|                  4.0|                  1.0|                  5.0|                  2.0|                  3.0|                3.0|                1.0|                2.0|                7.0|                5.0|                4.0|                6.0|A friend told me ...|U.S. dollars ($)|  NULL|      NULL|           NULL|          NULL|        Slack;Trello|  Less than a month|Taken an online c...|The official docu...|                NULL|To improve my gen...|      Strongly agree|               Agree|            Disagree|C++;Java;JavaScri...|  C;C++;Java;JavaSc...|                NULL|                  NULL|            Firebase|  Arduino;Gaming co...|     Angular;Node.js|        Angular;Node.js|Eclipse;Visual St...|          MacOS|             2|     Kanban|                 Git|A few times per week|      Yes|             Yes|The website I was...|   Somewhat agree|Neither agree nor...|   Strongly disagree|Saw an online adv...|           2.0|           6.0|           4.0|           1.0|           5.0|           7.0|           3.0|\"Artificial intel...|Increasing automa...|                NULL|I don't care abou...|Depends on what i...|Yes, but only wit...|The person who ca...|                 Yes|      10 (Very Likely)|A few times per m...|                    Yes|    Less than once pe...|No, I knew that S...| No, and I don't k...|                      NULL|               I'm not sure| Somewhat interested| Somewhat interested|     Very interested|     Very interested|A little bit inte...|Between 7:01 - 8:...| 9 - 12 hours|Less than 30 minutes|               Never|       Standing desk|I don't typically...|  Male|Straight or heter...|Master’s degree (...|Hispanic or Latin...|18 - 24 years old|        No|        No|The survey was an...|           Very easy|\n",
      "|     21745|  Yes|       Yes|        Nepal|            No|Employed full-time|Bachelor’s degree...|Computer science,...|  20 to 99 employees|Back-end develope...|  6-8 years|      3-5 years|Moderately satisfied| Extremely satisfied|Working as a foun...|I’m not actively ...|Less than a year ago|      NULL|      NULL|      NULL|      NULL|      NULL|      NULL|      NULL|      NULL|      NULL|       NULL|           NULL|           NULL|           NULL|           NULL|           NULL|           NULL|           NULL|           NULL|           NULL|            NULL|            NULL|                  2.0|                  5.0|                  1.0|                  4.0|                  3.0|                5.0|                2.0|                6.0|                4.0|                1.0|                3.0|                7.0|My job status or ...|            NULL|  NULL|      NULL|           NULL|          NULL|        Slack;Trello|One to three months|Taken an online c...|The official docu...|                NULL|To improve my gen...|Neither Agree nor...|               Agree|            Disagree|C;C++;Java;JavaSc...|  C#;CoffeeScript;C...|               MySQL|  Cassandra;MongoDB...|Android;Arduino;L...|  Amazon Echo;Andro...|          TensorFlow|   Angular;.NET Core...|Android Studio;In...|        Windows|             1|       NULL|                 Git|A few times per week|      Yes|             Yes|I wanted to suppo...|   Somewhat agree|      Strongly agree|Neither agree nor...|Saw an online adv...|           7.0|           1.0|           2.0|           3.0|           5.0|           6.0|           4.0|\"Artificial intel...|Algorithms making...|The developers or...|I'm excited about...|Depends on what i...|Depends on what i...|The person who ca...|Unsure / I don't ...|      10 (Very Likely)|Multiple times pe...|                    Yes|    A few times per week|                 Yes| No, I know what i...|          10 (Very Likely)|                        Yes|Extremely interested|Extremely interested|Extremely interested|Extremely interested|Extremely interested|Between 8:01 - 9:...| 9 - 12 hours|     30 - 59 minutes|3 - 4 times per week|       Standing desk|1 - 2 times per week|  Male|Straight or heter...|Master’s degree (...|         South Asian|18 - 24 years old|        No|      NULL|The survey was to...|       Somewhat easy|\n",
      "+----------+-----+----------+-------------+--------------+------------------+--------------------+--------------------+--------------------+--------------------+-----------+---------------+--------------------+--------------------+--------------------+--------------------+--------------------+----------+----------+----------+----------+----------+----------+----------+----------+----------+-----------+---------------+---------------+---------------+---------------+---------------+---------------+---------------+---------------+---------------+----------------+----------------+---------------------+---------------------+---------------------+---------------------+---------------------+-------------------+-------------------+-------------------+-------------------+-------------------+-------------------+-------------------+--------------------+----------------+------+----------+---------------+--------------+--------------------+-------------------+--------------------+--------------------+--------------------+--------------------+--------------------+--------------------+--------------------+--------------------+----------------------+--------------------+----------------------+--------------------+----------------------+--------------------+-----------------------+--------------------+---------------+--------------+-----------+--------------------+--------------------+---------+----------------+--------------------+-----------------+--------------------+--------------------+--------------------+--------------+--------------+--------------+--------------+--------------+--------------+--------------+--------------------+--------------------+--------------------+--------------------+--------------------+--------------------+--------------------+--------------------+----------------------+--------------------+-----------------------+------------------------+--------------------+---------------------+--------------------------+---------------------------+--------------------+--------------------+--------------------+--------------------+--------------------+--------------------+-------------+--------------------+--------------------+--------------------+--------------------+------+--------------------+--------------------+--------------------+-----------------+----------+----------+--------------------+--------------------+\n",
      "only showing top 5 rows\n",
      "\n"
     ]
    }
   ],
   "source": [
    "data: DataFrame = spark.read.csv(\n",
    "    f\"{settings.BASE_DIR / 'data_csv' / 'base_de_respostas_10k_amostra.csv'}\",\n",
    "    sep=\",\",\n",
    "    header=True,\n",
    "    inferSchema=True,\n",
    ")\n",
    "\n",
    "data.show(5)"
   ]
  },
  {
   "cell_type": "markdown",
   "metadata": {},
   "source": [
    "### Select only data used in Data Warehouse"
   ]
  },
  {
   "cell_type": "code",
   "execution_count": 21,
   "metadata": {},
   "outputs": [
    {
     "name": "stdout",
     "output_type": "stream",
     "text": [
      "+----------+-----+---------------+--------------------+--------------------+---------------+--------------------+-------------+\n",
      "|Respondent|Hobby|ConvertedSalary|  CommunicationTools|  LanguageWorkedWith|OperatingSystem|         CompanySize|      Country|\n",
      "+----------+-----+---------------+--------------------+--------------------+---------------+--------------------+-------------+\n",
      "|    101346|   No|        50000.0|               Slack|C#;JavaScript;SQL...|        Windows|100 to 499 employees|United States|\n",
      "|     44791|  Yes|        79552.0|Jira;Other wiki t...|C;C++;Java;JavaSc...|        Windows|1,000 to 4,999 em...|      Germany|\n",
      "|     32306|  Yes|       125000.0|Office / producti...|Assembly;C;C++;C#...|        Windows|10,000 or more em...|United States|\n",
      "|     37142|  Yes|           NULL|        Slack;Trello|C++;Java;JavaScri...|          MacOS|  10 to 19 employees|United States|\n",
      "|     21745|  Yes|           NULL|        Slack;Trello|C;C++;Java;JavaSc...|        Windows|  20 to 99 employees|        Nepal|\n",
      "+----------+-----+---------------+--------------------+--------------------+---------------+--------------------+-------------+\n",
      "only showing top 5 rows\n",
      "\n"
     ]
    }
   ],
   "source": [
    "data = data.select(\n",
    "    \"Respondent\",\n",
    "    \"Hobby\",\n",
    "    \"ConvertedSalary\",\n",
    "    \"CommunicationTools\",\n",
    "    \"LanguageWorkedWith\",\n",
    "    \"OperatingSystem\",\n",
    "    \"CompanySize\",\n",
    "    \"Country\",\n",
    ")\n",
    "\n",
    "data.show(5)"
   ]
  },
  {
   "cell_type": "markdown",
   "metadata": {},
   "source": [
    "### Add id column"
   ]
  },
  {
   "cell_type": "code",
   "execution_count": 22,
   "metadata": {},
   "outputs": [
    {
     "name": "stdout",
     "output_type": "stream",
     "text": [
      "+----------+-----+---------------+--------------------+--------------------+---------------+--------------------+-------------+------+\n",
      "|Respondent|Hobby|ConvertedSalary|  CommunicationTools|  LanguageWorkedWith|OperatingSystem|         CompanySize|      Country|    id|\n",
      "+----------+-----+---------------+--------------------+--------------------+---------------+--------------------+-------------+------+\n",
      "|    101346|   No|        50000.0|               Slack|C#;JavaScript;SQL...|        Windows|100 to 499 employees|United States|101346|\n",
      "|     44791|  Yes|        79552.0|Jira;Other wiki t...|C;C++;Java;JavaSc...|        Windows|1,000 to 4,999 em...|      Germany| 44791|\n",
      "|     32306|  Yes|       125000.0|Office / producti...|Assembly;C;C++;C#...|        Windows|10,000 or more em...|United States| 32306|\n",
      "|     37142|  Yes|           NULL|        Slack;Trello|C++;Java;JavaScri...|          MacOS|  10 to 19 employees|United States| 37142|\n",
      "|     21745|  Yes|           NULL|        Slack;Trello|C;C++;Java;JavaSc...|        Windows|  20 to 99 employees|        Nepal| 21745|\n",
      "+----------+-----+---------------+--------------------+--------------------+---------------+--------------------+-------------+------+\n",
      "only showing top 5 rows\n",
      "\n"
     ]
    }
   ],
   "source": [
    "data = data.withColumn(\"id\", func.col(\"Respondent\"))\n",
    "data.show(5)"
   ]
  },
  {
   "cell_type": "markdown",
   "metadata": {},
   "source": [
    "### Change respondent name as described in the challenge.\n"
   ]
  },
  {
   "cell_type": "code",
   "execution_count": 23,
   "metadata": {},
   "outputs": [
    {
     "name": "stdout",
     "output_type": "stream",
     "text": [
      "+-----+---------------+--------------------+--------------------+---------------+--------------------+-------------+------+-----------------+\n",
      "|Hobby|ConvertedSalary|  CommunicationTools|  LanguageWorkedWith|OperatingSystem|         CompanySize|      Country|    id|             name|\n",
      "+-----+---------------+--------------------+--------------------+---------------+--------------------+-------------+------+-----------------+\n",
      "|   No|        50000.0|               Slack|C#;JavaScript;SQL...|        Windows|100 to 499 employees|United States|101346|respondent_101346|\n",
      "|  Yes|        79552.0|Jira;Other wiki t...|C;C++;Java;JavaSc...|        Windows|1,000 to 4,999 em...|      Germany| 44791| respondent_44791|\n",
      "|  Yes|       125000.0|Office / producti...|Assembly;C;C++;C#...|        Windows|10,000 or more em...|United States| 32306| respondent_32306|\n",
      "|  Yes|           NULL|        Slack;Trello|C++;Java;JavaScri...|          MacOS|  10 to 19 employees|United States| 37142| respondent_37142|\n",
      "|  Yes|           NULL|        Slack;Trello|C;C++;Java;JavaSc...|        Windows|  20 to 99 employees|        Nepal| 21745| respondent_21745|\n",
      "+-----+---------------+--------------------+--------------------+---------------+--------------------+-------------+------+-----------------+\n",
      "only showing top 5 rows\n",
      "\n"
     ]
    }
   ],
   "source": [
    "@func.udf(returnType=StringType())\n",
    "def _add_name_prefix(x):\n",
    "    return f\"respondent_{x}\"\n",
    "\n",
    "\n",
    "data = data.withColumn(\"name\", _add_name_prefix(func.col(\"Respondent\"))).drop(\n",
    "    \"Respondent\"\n",
    ")\n",
    "data.show(5)"
   ]
  },
  {
   "cell_type": "markdown",
   "metadata": {},
   "source": [
    "### Insert data in operation_system"
   ]
  },
  {
   "cell_type": "code",
   "execution_count": 24,
   "metadata": {},
   "outputs": [],
   "source": [
    "operating_system = (\n",
    "    data.select(func.col(\"OperatingSystem\").alias(\"name\")).distinct().dropna()\n",
    ")\n",
    "\n",
    "save_on_database(operating_system, \"operation_system\")"
   ]
  },
  {
   "cell_type": "markdown",
   "metadata": {},
   "source": [
    "### Insert data in country"
   ]
  },
  {
   "cell_type": "code",
   "execution_count": 25,
   "metadata": {},
   "outputs": [],
   "source": [
    "country = data.select(func.col(\"Country\").alias(\"name\")).distinct().dropna()\n",
    "\n",
    "save_on_database(country, \"country\")"
   ]
  },
  {
   "cell_type": "markdown",
   "metadata": {},
   "source": [
    "### Insert data in company"
   ]
  },
  {
   "cell_type": "code",
   "execution_count": 26,
   "metadata": {},
   "outputs": [],
   "source": [
    "company = data.select(func.col(\"CompanySize\").alias(\"size\")).distinct().dropna()\n",
    "save_on_database(company, \"company\")"
   ]
  }
 ],
 "metadata": {
  "kernelspec": {
   "display_name": "ame-data-engineer-challenge-GmjWWdal-py3.10",
   "language": "python",
   "name": "python3"
  },
  "language_info": {
   "codemirror_mode": {
    "name": "ipython",
    "version": 3
   },
   "file_extension": ".py",
   "mimetype": "text/x-python",
   "name": "python",
   "nbconvert_exporter": "python",
   "pygments_lexer": "ipython3",
   "version": "3.10.12"
  }
 },
 "nbformat": 4,
 "nbformat_minor": 2
}
