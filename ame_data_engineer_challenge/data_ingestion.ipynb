{
 "cells": [
  {
   "cell_type": "code",
   "execution_count": 3,
   "metadata": {},
   "outputs": [
    {
     "name": "stderr",
     "output_type": "stream",
     "text": [
      "24/06/11 08:14:19 WARN Utils: Your hostname, IdeaPad-Gaming-3-15IHU6 resolves to a loopback address: 127.0.1.1; using 192.168.1.4 instead (on interface wlp0s20f3)\n",
      "24/06/11 08:14:19 WARN Utils: Set SPARK_LOCAL_IP if you need to bind to another address\n",
      "24/06/11 08:14:19 WARN NativeCodeLoader: Unable to load native-hadoop library for your platform... using builtin-java classes where applicable\n",
      "Setting default log level to \"WARN\".\n",
      "To adjust logging level use sc.setLogLevel(newLevel). For SparkR, use setLogLevel(newLevel).\n"
     ]
    }
   ],
   "source": [
    "from core.connection import get_session, save_on_database, get_from_database\n",
    "from core.config import settings\n",
    "from pyspark.sql import SparkSession\n",
    "from pyspark.sql import DataFrame\n",
    "import pyspark.sql.functions as F\n",
    "import pyspark.sql.types as T\n",
    "\n",
    "spark: SparkSession = get_session()"
   ]
  },
  {
   "cell_type": "markdown",
   "metadata": {},
   "source": [
    "### Load data from csv"
   ]
  },
  {
   "cell_type": "code",
   "execution_count": 4,
   "metadata": {},
   "outputs": [
    {
     "name": "stderr",
     "output_type": "stream",
     "text": [
      "24/06/11 08:14:27 WARN SparkStringUtils: Truncated the string representation of a plan since it was too large. This behavior can be adjusted by setting 'spark.sql.debug.maxToStringFields'.\n"
     ]
    },
    {
     "name": "stdout",
     "output_type": "stream",
     "text": [
      "+----------+-----+----------+-------------+--------------+------------------+--------------------+--------------------+--------------------+--------------------+-----------+---------------+--------------------+--------------------+--------------------+--------------------+--------------------+----------+----------+----------+----------+----------+----------+----------+----------+----------+-----------+---------------+---------------+---------------+---------------+---------------+---------------+---------------+---------------+---------------+----------------+----------------+---------------------+---------------------+---------------------+---------------------+---------------------+-------------------+-------------------+-------------------+-------------------+-------------------+-------------------+-------------------+--------------------+----------------+------+----------+---------------+--------------+--------------------+-------------------+--------------------+--------------------+--------------------+--------------------+--------------------+--------------------+--------------------+--------------------+----------------------+--------------------+----------------------+--------------------+----------------------+--------------------+-----------------------+--------------------+---------------+--------------+-----------+--------------------+--------------------+---------+----------------+--------------------+-----------------+--------------------+--------------------+--------------------+--------------+--------------+--------------+--------------+--------------+--------------+--------------+--------------------+--------------------+--------------------+--------------------+--------------------+--------------------+--------------------+--------------------+----------------------+--------------------+-----------------------+------------------------+--------------------+---------------------+--------------------------+---------------------------+--------------------+--------------------+--------------------+--------------------+--------------------+--------------------+-------------+--------------------+--------------------+--------------------+--------------------+------+--------------------+--------------------+--------------------+-----------------+----------+----------+--------------------+--------------------+\n",
      "|Respondent|Hobby|OpenSource|      Country|       Student|        Employment|     FormalEducation|      UndergradMajor|         CompanySize|             DevType|YearsCoding|YearsCodingProf|     JobSatisfaction|  CareerSatisfaction|       HopeFiveYears|     JobSearchStatus|          LastNewJob|AssessJob1|AssessJob2|AssessJob3|AssessJob4|AssessJob5|AssessJob6|AssessJob7|AssessJob8|AssessJob9|AssessJob10|AssessBenefits1|AssessBenefits2|AssessBenefits3|AssessBenefits4|AssessBenefits5|AssessBenefits6|AssessBenefits7|AssessBenefits8|AssessBenefits9|AssessBenefits10|AssessBenefits11|JobContactPriorities1|JobContactPriorities2|JobContactPriorities3|JobContactPriorities4|JobContactPriorities5|JobEmailPriorities1|JobEmailPriorities2|JobEmailPriorities3|JobEmailPriorities4|JobEmailPriorities5|JobEmailPriorities6|JobEmailPriorities7|            UpdateCV|        Currency|Salary|SalaryType|ConvertedSalary|CurrencySymbol|  CommunicationTools|TimeFullyProductive|      EducationTypes|     SelfTaughtTypes|   TimeAfterBootcamp|    HackathonReasons|      AgreeDisagree1|      AgreeDisagree2|      AgreeDisagree3|  LanguageWorkedWith|LanguageDesireNextYear|  DatabaseWorkedWith|DatabaseDesireNextYear|  PlatformWorkedWith|PlatformDesireNextYear| FrameworkWorkedWith|FrameworkDesireNextYear|                 IDE|OperatingSystem|NumberMonitors|Methodology|      VersionControl|         CheckInCode|AdBlocker|AdBlockerDisable|    AdBlockerReasons|AdsAgreeDisagree1|   AdsAgreeDisagree2|   AdsAgreeDisagree3|          AdsActions|AdsPriorities1|AdsPriorities2|AdsPriorities3|AdsPriorities4|AdsPriorities5|AdsPriorities6|AdsPriorities7|         AIDangerous|       AIInteresting|       AIResponsible|            AIFuture|        EthicsChoice|        EthicsReport|   EthicsResponsible| EthicalImplications|StackOverflowRecommend|  StackOverflowVisit|StackOverflowHasAccount|StackOverflowParticipate|   StackOverflowJobs|StackOverflowDevStory|StackOverflowJobsRecommend|StackOverflowConsiderMember|  HypotheticalTools1|  HypotheticalTools2|  HypotheticalTools3|  HypotheticalTools4|  HypotheticalTools5|            WakeTime|HoursComputer|        HoursOutside|           SkipMeals|    ErgonomicDevices|            Exercise|Gender|   SexualOrientation|    EducationParents|       RaceEthnicity|              Age|Dependents|MilitaryUS|       SurveyTooLong|          SurveyEasy|\n",
      "+----------+-----+----------+-------------+--------------+------------------+--------------------+--------------------+--------------------+--------------------+-----------+---------------+--------------------+--------------------+--------------------+--------------------+--------------------+----------+----------+----------+----------+----------+----------+----------+----------+----------+-----------+---------------+---------------+---------------+---------------+---------------+---------------+---------------+---------------+---------------+----------------+----------------+---------------------+---------------------+---------------------+---------------------+---------------------+-------------------+-------------------+-------------------+-------------------+-------------------+-------------------+-------------------+--------------------+----------------+------+----------+---------------+--------------+--------------------+-------------------+--------------------+--------------------+--------------------+--------------------+--------------------+--------------------+--------------------+--------------------+----------------------+--------------------+----------------------+--------------------+----------------------+--------------------+-----------------------+--------------------+---------------+--------------+-----------+--------------------+--------------------+---------+----------------+--------------------+-----------------+--------------------+--------------------+--------------------+--------------+--------------+--------------+--------------+--------------+--------------+--------------+--------------------+--------------------+--------------------+--------------------+--------------------+--------------------+--------------------+--------------------+----------------------+--------------------+-----------------------+------------------------+--------------------+---------------------+--------------------------+---------------------------+--------------------+--------------------+--------------------+--------------------+--------------------+--------------------+-------------+--------------------+--------------------+--------------------+--------------------+------+--------------------+--------------------+--------------------+-----------------+----------+----------+--------------------+--------------------+\n",
      "|    101346|   No|        No|United States|            No|Employed full-time|Bachelor’s degree...|A business discip...|100 to 499 employees|  Back-end developer|  0-2 years|      0-2 years|Moderately satisfied|Moderately satisfied| Doing the same work|I’m not actively ...|Less than a year ago|      10.0|       9.0|       5.0|       4.0|       1.0|       2.0|       7.0|       6.0|       3.0|        8.0|            1.0|            4.0|            2.0|            8.0|            6.0|            3.0|           10.0|            5.0|            9.0|            11.0|             7.0|                  3.0|                  1.0|                  5.0|                  2.0|                  4.0|                5.0|                4.0|                2.0|                3.0|                1.0|                6.0|                7.0|My job status or ...|U.S. dollars ($)| 50000|      NULL|        50000.0|           USD|               Slack|One to three months|Taken an online c...|                NULL|Six months to a year|                NULL|               Agree|               Agree|               Agree|C#;JavaScript;SQL...|              Java;PHP|SQL Server;MySQL;...|                  NULL|               Azure|                  NULL|           .NET Core|                   NULL|Notepad++;Visual ...|        Windows|             2|       NULL|I don't use versi...|                NULL|       No|            NULL|                NULL|   Somewhat agree|Neither agree nor...|Neither agree nor...|Stopped going to ...|           1.0|           6.0|           2.0|           3.0|           4.0|           7.0|           5.0|Algorithms making...|Increasing automa...|The developers or...|I don't care abou...|Depends on what i...|Depends on what i...|Upper management ...|                 Yes|      10 (Very Likely)|A few times per m...|                     No|                    NULL|                 Yes|                 NULL|                         8|                         No|Not at all intere...| Somewhat interested|Not at all intere...| Somewhat interested| Somewhat interested|Between 5:00 - 6:...| 9 - 12 hours|     30 - 59 minutes|               Never|                NULL|Daily or almost e...|Female|Straight or heter...|Bachelor’s degree...|White or of Europ...|45 - 54 years old|       Yes|        No|The survey was an...|       Somewhat easy|\n",
      "|     44791|  Yes|        No|      Germany|            No|Employed full-time|Bachelor’s degree...|Computer science,...|1,000 to 4,999 em...|Back-end develope...| 9-11 years|      3-5 years|Extremely dissati...|Slightly dissatis...|Working in a care...|I’m not actively ...|More than 4 years...|       1.0|       6.0|       4.0|       9.0|       3.0|       5.0|       2.0|       8.0|      10.0|        7.0|            1.0|            8.0|           11.0|            6.0|            5.0|            9.0|            4.0|           10.0|            7.0|             3.0|             2.0|                  5.0|                  2.0|                  4.0|                  1.0|                  3.0|                5.0|                2.0|                3.0|                6.0|                1.0|                7.0|                4.0|A recruiter conta...|       Euros (€)| 65000|    Yearly|        79552.0|           EUR|Jira;Other wiki t...|  Less than a month|Taken an online c...|The official docu...|                NULL|                NULL|               Agree|            Disagree|Neither Agree nor...|C;C++;Java;JavaSc...|              C++;Java|             IBM Db2|                  NULL|Linux;Windows Des...|  Linux;Windows Des...|       Node.js;React|                   NULL|Eclipse;Notepad++...|        Windows|             2|Agile;Scrum|                 Git|Multiple times pe...|      Yes|             Yes|The website I was...|Somewhat disagree|   Somewhat disagree|      Strongly agree|Clicked on an onl...|           1.0|           2.0|           5.0|           3.0|           7.0|           6.0|           4.0|\"Evolving definit...|Increasing automa...|A governmental or...|I'm excited about...|                  No|   Yes, and publicly|The developer who...|                 Yes|                     9|Daily or almost d...|                    Yes|    Daily or almost d...|                 Yes|                  Yes|                         6|                        Yes| Somewhat interested|     Very interested|A little bit inte...|Extremely interested| Somewhat interested|Between 5:00 - 6:...| 9 - 12 hours|         3 - 4 hours|               Never|Wrist/hand suppor...|3 - 4 times per week|  Male|Straight or heter...|Other doctoral de...|White or of Europ...|25 - 34 years old|        No|      NULL|The survey was to...|Neither easy nor ...|\n",
      "|     32306|  Yes|       Yes|United States|            No|Employed full-time|Bachelor’s degree...|Computer science,...|10,000 or more em...|Back-end develope...| 9-11 years|      3-5 years|Moderately satisfied|Moderately satisfied| Doing the same work|I am not interest...|Between 2 and 4 y...|       3.0|       8.0|       5.0|       7.0|       1.0|       4.0|       2.0|       6.0|       9.0|       10.0|            1.0|            6.0|            3.0|           11.0|            7.0|            5.0|            2.0|            9.0|           10.0|             4.0|             8.0|                 NULL|                 NULL|                 NULL|                 NULL|                 NULL|               NULL|               NULL|               NULL|               NULL|               NULL|               NULL|               NULL|My job status or ...|U.S. dollars ($)|125000|      NULL|       125000.0|           USD|Office / producti...|One to three months|Taught yourself a...|The official docu...|                NULL|To improve my gen...|               Agree|Neither Agree nor...|   Strongly disagree|Assembly;C;C++;C#...|  C;C++;C#;JavaScri...|                NULL|                  NULL|Amazon Echo;Andro...|  Android;Arduino;A...|.NET Core;Node.js...|   .NET Core;Node.js...|Android Studio;Vi...|        Windows|             3|Agile;Scrum|                 Git|Multiple times pe...|      Yes|              No|                NULL|Strongly disagree|      Somewhat agree|      Strongly agree|Stopped going to ...|           4.0|           3.0|           5.0|           6.0|           1.0|           7.0|           2.0|\"Artificial intel...|\"Artificial intel...|The developers or...|I'm excited about...|Depends on what i...|Depends on what i...|The developer who...|                 Yes|      10 (Very Likely)|A few times per week|                    Yes|    I have never part...|No, I knew that S...| No, and I don't k...|                      NULL|                         No|Not at all intere...|Not at all intere...| Somewhat interested|     Very interested|     Very interested|Between 9:01 - 10...| 9 - 12 hours|     30 - 59 minutes|Daily or almost e...|Ergonomic keyboar...|1 - 2 times per week|  Male|Straight or heter...|Bachelor’s degree...|White or of Europ...|25 - 34 years old|        No|        No|The survey was an...|       Somewhat easy|\n",
      "|     37142|  Yes|        No|United States|Yes, full-time|Employed part-time|Secondary school ...|                NULL|  10 to 19 employees|Front-end develop...|  6-8 years|      0-2 years|  Slightly satisfied|Slightly dissatis...|Working in a diff...|I’m not actively ...|Less than a year ago|       1.0|      10.0|       5.0|       9.0|       4.0|       3.0|       7.0|       2.0|       8.0|        6.0|            2.0|            8.0|            1.0|           10.0|            9.0|            6.0|            3.0|            7.0|           11.0|             4.0|             5.0|                  4.0|                  1.0|                  5.0|                  2.0|                  3.0|                3.0|                1.0|                2.0|                7.0|                5.0|                4.0|                6.0|A friend told me ...|U.S. dollars ($)|  NULL|      NULL|           NULL|          NULL|        Slack;Trello|  Less than a month|Taken an online c...|The official docu...|                NULL|To improve my gen...|      Strongly agree|               Agree|            Disagree|C++;Java;JavaScri...|  C;C++;Java;JavaSc...|                NULL|                  NULL|            Firebase|  Arduino;Gaming co...|     Angular;Node.js|        Angular;Node.js|Eclipse;Visual St...|          MacOS|             2|     Kanban|                 Git|A few times per week|      Yes|             Yes|The website I was...|   Somewhat agree|Neither agree nor...|   Strongly disagree|Saw an online adv...|           2.0|           6.0|           4.0|           1.0|           5.0|           7.0|           3.0|\"Artificial intel...|Increasing automa...|                NULL|I don't care abou...|Depends on what i...|Yes, but only wit...|The person who ca...|                 Yes|      10 (Very Likely)|A few times per m...|                    Yes|    Less than once pe...|No, I knew that S...| No, and I don't k...|                      NULL|               I'm not sure| Somewhat interested| Somewhat interested|     Very interested|     Very interested|A little bit inte...|Between 7:01 - 8:...| 9 - 12 hours|Less than 30 minutes|               Never|       Standing desk|I don't typically...|  Male|Straight or heter...|Master’s degree (...|Hispanic or Latin...|18 - 24 years old|        No|        No|The survey was an...|           Very easy|\n",
      "|     21745|  Yes|       Yes|        Nepal|            No|Employed full-time|Bachelor’s degree...|Computer science,...|  20 to 99 employees|Back-end develope...|  6-8 years|      3-5 years|Moderately satisfied| Extremely satisfied|Working as a foun...|I’m not actively ...|Less than a year ago|      NULL|      NULL|      NULL|      NULL|      NULL|      NULL|      NULL|      NULL|      NULL|       NULL|           NULL|           NULL|           NULL|           NULL|           NULL|           NULL|           NULL|           NULL|           NULL|            NULL|            NULL|                  2.0|                  5.0|                  1.0|                  4.0|                  3.0|                5.0|                2.0|                6.0|                4.0|                1.0|                3.0|                7.0|My job status or ...|            NULL|  NULL|      NULL|           NULL|          NULL|        Slack;Trello|One to three months|Taken an online c...|The official docu...|                NULL|To improve my gen...|Neither Agree nor...|               Agree|            Disagree|C;C++;Java;JavaSc...|  C#;CoffeeScript;C...|               MySQL|  Cassandra;MongoDB...|Android;Arduino;L...|  Amazon Echo;Andro...|          TensorFlow|   Angular;.NET Core...|Android Studio;In...|        Windows|             1|       NULL|                 Git|A few times per week|      Yes|             Yes|I wanted to suppo...|   Somewhat agree|      Strongly agree|Neither agree nor...|Saw an online adv...|           7.0|           1.0|           2.0|           3.0|           5.0|           6.0|           4.0|\"Artificial intel...|Algorithms making...|The developers or...|I'm excited about...|Depends on what i...|Depends on what i...|The person who ca...|Unsure / I don't ...|      10 (Very Likely)|Multiple times pe...|                    Yes|    A few times per week|                 Yes| No, I know what i...|          10 (Very Likely)|                        Yes|Extremely interested|Extremely interested|Extremely interested|Extremely interested|Extremely interested|Between 8:01 - 9:...| 9 - 12 hours|     30 - 59 minutes|3 - 4 times per week|       Standing desk|1 - 2 times per week|  Male|Straight or heter...|Master’s degree (...|         South Asian|18 - 24 years old|        No|      NULL|The survey was to...|       Somewhat easy|\n",
      "+----------+-----+----------+-------------+--------------+------------------+--------------------+--------------------+--------------------+--------------------+-----------+---------------+--------------------+--------------------+--------------------+--------------------+--------------------+----------+----------+----------+----------+----------+----------+----------+----------+----------+-----------+---------------+---------------+---------------+---------------+---------------+---------------+---------------+---------------+---------------+----------------+----------------+---------------------+---------------------+---------------------+---------------------+---------------------+-------------------+-------------------+-------------------+-------------------+-------------------+-------------------+-------------------+--------------------+----------------+------+----------+---------------+--------------+--------------------+-------------------+--------------------+--------------------+--------------------+--------------------+--------------------+--------------------+--------------------+--------------------+----------------------+--------------------+----------------------+--------------------+----------------------+--------------------+-----------------------+--------------------+---------------+--------------+-----------+--------------------+--------------------+---------+----------------+--------------------+-----------------+--------------------+--------------------+--------------------+--------------+--------------+--------------+--------------+--------------+--------------+--------------+--------------------+--------------------+--------------------+--------------------+--------------------+--------------------+--------------------+--------------------+----------------------+--------------------+-----------------------+------------------------+--------------------+---------------------+--------------------------+---------------------------+--------------------+--------------------+--------------------+--------------------+--------------------+--------------------+-------------+--------------------+--------------------+--------------------+--------------------+------+--------------------+--------------------+--------------------+-----------------+----------+----------+--------------------+--------------------+\n",
      "only showing top 5 rows\n",
      "\n"
     ]
    }
   ],
   "source": [
    "data: DataFrame = spark.read.csv(\n",
    "    f\"{settings.BASE_DIR / 'data_csv' / 'base_de_respostas_10k_amostra.csv'}\",\n",
    "    sep=\",\",\n",
    "    header=True,\n",
    "    inferSchema=True,\n",
    ")\n",
    "\n",
    "data.show(5)"
   ]
  },
  {
   "cell_type": "markdown",
   "metadata": {},
   "source": [
    "### Select only data used in Data Warehouse"
   ]
  },
  {
   "cell_type": "code",
   "execution_count": 5,
   "metadata": {},
   "outputs": [
    {
     "name": "stdout",
     "output_type": "stream",
     "text": [
      "+----------+-----+----------+---------------+--------------------+--------------------+---------------+--------------------+-------------+\n",
      "|Respondent|Hobby|OpenSource|ConvertedSalary|  CommunicationTools|  LanguageWorkedWith|OperatingSystem|         CompanySize|      Country|\n",
      "+----------+-----+----------+---------------+--------------------+--------------------+---------------+--------------------+-------------+\n",
      "|    101346|   No|        No|        50000.0|               Slack|C#;JavaScript;SQL...|        Windows|100 to 499 employees|United States|\n",
      "|     44791|  Yes|        No|        79552.0|Jira;Other wiki t...|C;C++;Java;JavaSc...|        Windows|1,000 to 4,999 em...|      Germany|\n",
      "|     32306|  Yes|       Yes|       125000.0|Office / producti...|Assembly;C;C++;C#...|        Windows|10,000 or more em...|United States|\n",
      "|     37142|  Yes|        No|           NULL|        Slack;Trello|C++;Java;JavaScri...|          MacOS|  10 to 19 employees|United States|\n",
      "|     21745|  Yes|       Yes|           NULL|        Slack;Trello|C;C++;Java;JavaSc...|        Windows|  20 to 99 employees|        Nepal|\n",
      "+----------+-----+----------+---------------+--------------------+--------------------+---------------+--------------------+-------------+\n",
      "only showing top 5 rows\n",
      "\n"
     ]
    }
   ],
   "source": [
    "data = data.select(\n",
    "    \"Respondent\",\n",
    "    \"Hobby\",\n",
    "    \"OpenSource\",\n",
    "    \"ConvertedSalary\",\n",
    "    \"CommunicationTools\",\n",
    "    \"LanguageWorkedWith\",\n",
    "    \"OperatingSystem\",\n",
    "    \"CompanySize\",\n",
    "    \"Country\",\n",
    ")\n",
    "\n",
    "data.show(5)"
   ]
  },
  {
   "cell_type": "markdown",
   "metadata": {},
   "source": [
    "### Add id column"
   ]
  },
  {
   "cell_type": "code",
   "execution_count": 6,
   "metadata": {},
   "outputs": [
    {
     "name": "stdout",
     "output_type": "stream",
     "text": [
      "+----------+-----+----------+---------------+--------------------+--------------------+---------------+--------------------+-------------+------+\n",
      "|Respondent|Hobby|OpenSource|ConvertedSalary|  CommunicationTools|  LanguageWorkedWith|OperatingSystem|         CompanySize|      Country|    id|\n",
      "+----------+-----+----------+---------------+--------------------+--------------------+---------------+--------------------+-------------+------+\n",
      "|    101346|   No|        No|        50000.0|               Slack|C#;JavaScript;SQL...|        Windows|100 to 499 employees|United States|101346|\n",
      "|     44791|  Yes|        No|        79552.0|Jira;Other wiki t...|C;C++;Java;JavaSc...|        Windows|1,000 to 4,999 em...|      Germany| 44791|\n",
      "|     32306|  Yes|       Yes|       125000.0|Office / producti...|Assembly;C;C++;C#...|        Windows|10,000 or more em...|United States| 32306|\n",
      "|     37142|  Yes|        No|           NULL|        Slack;Trello|C++;Java;JavaScri...|          MacOS|  10 to 19 employees|United States| 37142|\n",
      "|     21745|  Yes|       Yes|           NULL|        Slack;Trello|C;C++;Java;JavaSc...|        Windows|  20 to 99 employees|        Nepal| 21745|\n",
      "+----------+-----+----------+---------------+--------------------+--------------------+---------------+--------------------+-------------+------+\n",
      "only showing top 5 rows\n",
      "\n"
     ]
    }
   ],
   "source": [
    "data = data.withColumn(\"id\", F.col(\"Respondent\"))\n",
    "data.show(5)"
   ]
  },
  {
   "cell_type": "markdown",
   "metadata": {},
   "source": [
    "### Change respondent name as described in the challenge.\n"
   ]
  },
  {
   "cell_type": "code",
   "execution_count": 7,
   "metadata": {},
   "outputs": [
    {
     "name": "stdout",
     "output_type": "stream",
     "text": [
      "+-----+----------+---------------+--------------------+--------------------+---------------+--------------------+-------------+------+-----------------+\n",
      "|Hobby|OpenSource|ConvertedSalary|  CommunicationTools|  LanguageWorkedWith|OperatingSystem|         CompanySize|      Country|    id|             name|\n",
      "+-----+----------+---------------+--------------------+--------------------+---------------+--------------------+-------------+------+-----------------+\n",
      "|   No|        No|        50000.0|               Slack|C#;JavaScript;SQL...|        Windows|100 to 499 employees|United States|101346|respondent_101346|\n",
      "|  Yes|        No|        79552.0|Jira;Other wiki t...|C;C++;Java;JavaSc...|        Windows|1,000 to 4,999 em...|      Germany| 44791| respondent_44791|\n",
      "|  Yes|       Yes|       125000.0|Office / producti...|Assembly;C;C++;C#...|        Windows|10,000 or more em...|United States| 32306| respondent_32306|\n",
      "|  Yes|        No|           NULL|        Slack;Trello|C++;Java;JavaScri...|          MacOS|  10 to 19 employees|United States| 37142| respondent_37142|\n",
      "|  Yes|       Yes|           NULL|        Slack;Trello|C;C++;Java;JavaSc...|        Windows|  20 to 99 employees|        Nepal| 21745| respondent_21745|\n",
      "+-----+----------+---------------+--------------------+--------------------+---------------+--------------------+-------------+------+-----------------+\n",
      "only showing top 5 rows\n",
      "\n"
     ]
    }
   ],
   "source": [
    "@F.udf(returnType=T.StringType())\n",
    "def _add_name_prefix(x):\n",
    "    return f\"respondent_{x}\"\n",
    "\n",
    "\n",
    "data = data.withColumn(\"name\", _add_name_prefix(F.col(\"Respondent\"))).drop(\"Respondent\")\n",
    "data.show(5)"
   ]
  },
  {
   "cell_type": "markdown",
   "metadata": {},
   "source": [
    "### Insert data in operation_system"
   ]
  },
  {
   "cell_type": "code",
   "execution_count": null,
   "metadata": {},
   "outputs": [],
   "source": [
    "operating_system = (\n",
    "    data.select(F.col(\"OperatingSystem\").alias(\"name\")).distinct().dropna()\n",
    ")\n",
    "\n",
    "save_on_database(operating_system, \"operation_system\")"
   ]
  },
  {
   "cell_type": "markdown",
   "metadata": {},
   "source": [
    "### Insert data in country"
   ]
  },
  {
   "cell_type": "code",
   "execution_count": null,
   "metadata": {},
   "outputs": [],
   "source": [
    "country = data.select(F.col(\"Country\").alias(\"name\")).distinct().dropna()\n",
    "\n",
    "save_on_database(country, \"country\")"
   ]
  },
  {
   "cell_type": "markdown",
   "metadata": {},
   "source": [
    "### Insert data in company"
   ]
  },
  {
   "cell_type": "code",
   "execution_count": null,
   "metadata": {},
   "outputs": [],
   "source": [
    "company = data.select(F.col(\"CompanySize\").alias(\"size\")).distinct().dropna()\n",
    "save_on_database(company, \"company\")"
   ]
  },
  {
   "cell_type": "markdown",
   "metadata": {},
   "source": [
    "## Insert data in respondent"
   ]
  },
  {
   "cell_type": "markdown",
   "metadata": {},
   "source": [
    "#### Create function to reference id from database & replace value"
   ]
  },
  {
   "cell_type": "code",
   "execution_count": 9,
   "metadata": {},
   "outputs": [],
   "source": [
    "def get_reference_from_database(\n",
    "    spark_session: SparkSession, table_name: str\n",
    ") -> dict[str, int]:\n",
    "    try:\n",
    "        df: DataFrame = get_from_database(spark_session, table_name)\n",
    "    except Exception:\n",
    "        print(\"Connection Error\")\n",
    "\n",
    "    return {v: k for k, v in dict(df.collect()).items()}\n",
    "\n",
    "\n",
    "def replace_value(x, to_replace: dict):\n",
    "    return to_replace.get(x, T.NullType())"
   ]
  },
  {
   "cell_type": "markdown",
   "metadata": {},
   "source": [
    "### create column company_id"
   ]
  },
  {
   "cell_type": "code",
   "execution_count": 10,
   "metadata": {},
   "outputs": [
    {
     "name": "stdout",
     "output_type": "stream",
     "text": [
      "+-----+----------+---------------+--------------------+--------------------+---------------+-------------+------+-----------------+----------+\n",
      "|Hobby|OpenSource|ConvertedSalary|  CommunicationTools|  LanguageWorkedWith|OperatingSystem|      Country|    id|             name|company_id|\n",
      "+-----+----------+---------------+--------------------+--------------------+---------------+-------------+------+-----------------+----------+\n",
      "|   No|        No|        50000.0|               Slack|C#;JavaScript;SQL...|        Windows|United States|101346|respondent_101346|         2|\n",
      "|  Yes|        No|        79552.0|Jira;Other wiki t...|C;C++;Java;JavaSc...|        Windows|      Germany| 44791| respondent_44791|         4|\n",
      "|  Yes|       Yes|       125000.0|Office / producti...|Assembly;C;C++;C#...|        Windows|United States| 32306| respondent_32306|         7|\n",
      "|  Yes|        No|           NULL|        Slack;Trello|C++;Java;JavaScri...|          MacOS|United States| 37142| respondent_37142|         8|\n",
      "|  Yes|       Yes|           NULL|        Slack;Trello|C;C++;Java;JavaSc...|        Windows|        Nepal| 21745| respondent_21745|         5|\n",
      "+-----+----------+---------------+--------------------+--------------------+---------------+-------------+------+-----------------+----------+\n",
      "only showing top 5 rows\n",
      "\n"
     ]
    }
   ],
   "source": [
    "company_db = get_reference_from_database(spark, \"company\")\n",
    "\n",
    "\n",
    "@F.udf(returnType=T.IntegerType())\n",
    "def company_replace_udf(x):\n",
    "    return replace_value(x, company_db)\n",
    "\n",
    "\n",
    "data = data.withColumn(\"company_id\", company_replace_udf(F.col(\"CompanySize\"))).drop(\n",
    "    \"CompanySize\"\n",
    ")\n",
    "data.show(5)"
   ]
  },
  {
   "cell_type": "markdown",
   "metadata": {},
   "source": [
    "#### create column operation_system_id"
   ]
  },
  {
   "cell_type": "code",
   "execution_count": 11,
   "metadata": {},
   "outputs": [
    {
     "name": "stdout",
     "output_type": "stream",
     "text": [
      "+-----+----------+---------------+--------------------+--------------------+-------------+------+-----------------+----------+-------------------+\n",
      "|Hobby|OpenSource|ConvertedSalary|  CommunicationTools|  LanguageWorkedWith|      Country|    id|             name|company_id|operation_system_id|\n",
      "+-----+----------+---------------+--------------------+--------------------+-------------+------+-----------------+----------+-------------------+\n",
      "|   No|        No|        50000.0|               Slack|C#;JavaScript;SQL...|United States|101346|respondent_101346|         2|                  4|\n",
      "|  Yes|        No|        79552.0|Jira;Other wiki t...|C;C++;Java;JavaSc...|      Germany| 44791| respondent_44791|         4|                  4|\n",
      "|  Yes|       Yes|       125000.0|Office / producti...|Assembly;C;C++;C#...|United States| 32306| respondent_32306|         7|                  4|\n",
      "|  Yes|        No|           NULL|        Slack;Trello|C++;Java;JavaScri...|United States| 37142| respondent_37142|         8|                  3|\n",
      "|  Yes|       Yes|           NULL|        Slack;Trello|C;C++;Java;JavaSc...|        Nepal| 21745| respondent_21745|         5|                  4|\n",
      "+-----+----------+---------------+--------------------+--------------------+-------------+------+-----------------+----------+-------------------+\n",
      "only showing top 5 rows\n",
      "\n"
     ]
    }
   ],
   "source": [
    "os_db = get_reference_from_database(spark, \"operation_system\")\n",
    "\n",
    "\n",
    "@F.udf(returnType=T.IntegerType())\n",
    "def os_replace_udf(x):\n",
    "    return replace_value(x, os_db)\n",
    "\n",
    "\n",
    "data = data.withColumn(\n",
    "    \"operation_system_id\", os_replace_udf(F.col(\"OperatingSystem\"))\n",
    ").drop(\"OperatingSystem\")\n",
    "data.show(5)"
   ]
  },
  {
   "cell_type": "markdown",
   "metadata": {},
   "source": [
    "#### create column country_id"
   ]
  },
  {
   "cell_type": "code",
   "execution_count": 12,
   "metadata": {},
   "outputs": [
    {
     "name": "stdout",
     "output_type": "stream",
     "text": [
      "+-----+----------+---------------+--------------------+--------------------+------+-----------------+----------+-------------------+----------+\n",
      "|Hobby|OpenSource|ConvertedSalary|  CommunicationTools|  LanguageWorkedWith|    id|             name|company_id|operation_system_id|country_id|\n",
      "+-----+----------+---------------+--------------------+--------------------+------+-----------------+----------+-------------------+----------+\n",
      "|   No|        No|        50000.0|               Slack|C#;JavaScript;SQL...|101346|respondent_101346|         2|                  4|        27|\n",
      "|  Yes|        No|        79552.0|Jira;Other wiki t...|C;C++;Java;JavaSc...| 44791| respondent_44791|         4|                  4|         8|\n",
      "|  Yes|       Yes|       125000.0|Office / producti...|Assembly;C;C++;C#...| 32306| respondent_32306|         7|                  4|        27|\n",
      "|  Yes|        No|           NULL|        Slack;Trello|C++;Java;JavaScri...| 37142| respondent_37142|         8|                  3|        27|\n",
      "|  Yes|       Yes|           NULL|        Slack;Trello|C;C++;Java;JavaSc...| 21745| respondent_21745|         5|                  4|        85|\n",
      "+-----+----------+---------------+--------------------+--------------------+------+-----------------+----------+-------------------+----------+\n",
      "only showing top 5 rows\n",
      "\n"
     ]
    }
   ],
   "source": [
    "country_db = get_reference_from_database(spark, \"country\")\n",
    "\n",
    "\n",
    "@F.udf(returnType=T.IntegerType())\n",
    "def country_replace_udf(x):\n",
    "    return replace_value(x, country_db)\n",
    "\n",
    "\n",
    "data = data.withColumn(\"country_id\", country_replace_udf(F.col(\"Country\"))).drop(\n",
    "    \"Country\"\n",
    ")\n",
    "\n",
    "data.show(5)"
   ]
  },
  {
   "cell_type": "markdown",
   "metadata": {},
   "source": [
    "#### transform salary null to 0.0"
   ]
  },
  {
   "cell_type": "code",
   "execution_count": 13,
   "metadata": {},
   "outputs": [
    {
     "name": "stdout",
     "output_type": "stream",
     "text": [
      "+-----+----------+---------------+--------------------+--------------------+------+-----------------+----------+-------------------+----------+\n",
      "|Hobby|OpenSource|ConvertedSalary|  CommunicationTools|  LanguageWorkedWith|    id|             name|company_id|operation_system_id|country_id|\n",
      "+-----+----------+---------------+--------------------+--------------------+------+-----------------+----------+-------------------+----------+\n",
      "|   No|        No|        50000.0|               Slack|C#;JavaScript;SQL...|101346|respondent_101346|         2|                  4|        27|\n",
      "|  Yes|        No|        79552.0|Jira;Other wiki t...|C;C++;Java;JavaSc...| 44791| respondent_44791|         4|                  4|         8|\n",
      "|  Yes|       Yes|       125000.0|Office / producti...|Assembly;C;C++;C#...| 32306| respondent_32306|         7|                  4|        27|\n",
      "|  Yes|        No|            0.0|        Slack;Trello|C++;Java;JavaScri...| 37142| respondent_37142|         8|                  3|        27|\n",
      "|  Yes|       Yes|            0.0|        Slack;Trello|C;C++;Java;JavaSc...| 21745| respondent_21745|         5|                  4|        85|\n",
      "+-----+----------+---------------+--------------------+--------------------+------+-----------------+----------+-------------------+----------+\n",
      "only showing top 5 rows\n",
      "\n"
     ]
    }
   ],
   "source": [
    "data = data.fillna(0.0, subset=\"ConvertedSalary\")\n",
    "data.show(5)"
   ]
  },
  {
   "cell_type": "markdown",
   "metadata": {},
   "source": [
    "#### Transform salary"
   ]
  },
  {
   "cell_type": "code",
   "execution_count": 14,
   "metadata": {},
   "outputs": [
    {
     "name": "stdout",
     "output_type": "stream",
     "text": [
      "+-----+----------+--------------------+--------------------+------+-----------------+----------+-------------------+----------+--------+\n",
      "|Hobby|OpenSource|  CommunicationTools|  LanguageWorkedWith|    id|             name|company_id|operation_system_id|country_id|  salary|\n",
      "+-----+----------+--------------------+--------------------+------+-----------------+----------+-------------------+----------+--------+\n",
      "|   No|        No|               Slack|C#;JavaScript;SQL...|101346|respondent_101346|         2|                  4|        27| 15875.0|\n",
      "|  Yes|        No|Jira;Other wiki t...|C;C++;Java;JavaSc...| 44791| respondent_44791|         4|                  4|         8|25257.76|\n",
      "|  Yes|       Yes|Office / producti...|Assembly;C;C++;C#...| 32306| respondent_32306|         7|                  4|        27| 39687.5|\n",
      "|  Yes|        No|        Slack;Trello|C++;Java;JavaScri...| 37142| respondent_37142|         8|                  3|        27|     0.0|\n",
      "|  Yes|       Yes|        Slack;Trello|C;C++;Java;JavaSc...| 21745| respondent_21745|         5|                  4|        85|     0.0|\n",
      "+-----+----------+--------------------+--------------------+------+-----------------+----------+-------------------+----------+--------+\n",
      "only showing top 5 rows\n",
      "\n"
     ]
    }
   ],
   "source": [
    "@F.udf(returnType=T.DoubleType())\n",
    "def convert_salary(x):\n",
    "    return round((x / settings.YEAR_MONTHS) * settings.DOLLAR_EXCHANGE, 2)\n",
    "\n",
    "\n",
    "data = data.withColumn(\"salary\", convert_salary(F.col(\"ConvertedSalary\"))).drop(\n",
    "    \"ConvertedSalary\"\n",
    ")\n",
    "data.show(5)"
   ]
  },
  {
   "cell_type": "markdown",
   "metadata": {},
   "source": [
    "#### create respondent table"
   ]
  },
  {
   "cell_type": "code",
   "execution_count": 15,
   "metadata": {},
   "outputs": [
    {
     "name": "stdout",
     "output_type": "stream",
     "text": [
      "+------+-----------------+-----+--------+-------------------+----------+----------+-----------+\n",
      "|    id|             name|hobby|  salary|operation_system_id|country_id|company_id|open_source|\n",
      "+------+-----------------+-----+--------+-------------------+----------+----------+-----------+\n",
      "|101346|respondent_101346|false| 15875.0|                  4|        27|         2|      false|\n",
      "| 44791| respondent_44791| true|25257.76|                  4|         8|         4|      false|\n",
      "| 32306| respondent_32306| true| 39687.5|                  4|        27|         7|       true|\n",
      "| 37142| respondent_37142| true|     0.0|                  3|        27|         8|      false|\n",
      "| 21745| respondent_21745| true|     0.0|                  4|        85|         5|       true|\n",
      "+------+-----------------+-----+--------+-------------------+----------+----------+-----------+\n",
      "only showing top 5 rows\n",
      "\n"
     ]
    }
   ],
   "source": [
    "respondent = (\n",
    "    data.select(\n",
    "        \"id\",\n",
    "        \"name\",\n",
    "        \"OpenSource\",\n",
    "        \"Hobby\",\n",
    "        \"salary\",\n",
    "        \"operation_system_id\",\n",
    "        \"country_id\",\n",
    "        \"company_id\",\n",
    "    )\n",
    "    .withColumns(\n",
    "        {\n",
    "            \"open_source\": F.col(\"OpenSource\").cast(T.BooleanType()),\n",
    "            \"hobby\": F.col(\"Hobby\").cast(T.BooleanType()),\n",
    "        }\n",
    "    )\n",
    "    .drop(\"OpenSource\")\n",
    ")\n",
    "respondent.show(5)"
   ]
  },
  {
   "cell_type": "markdown",
   "metadata": {},
   "source": [
    "#### Insert data in respondent"
   ]
  },
  {
   "cell_type": "code",
   "execution_count": null,
   "metadata": {},
   "outputs": [
    {
     "name": "stderr",
     "output_type": "stream",
     "text": [
      "                                                                                \r"
     ]
    }
   ],
   "source": [
    "save_on_database(respondent, \"respondent\")"
   ]
  },
  {
   "cell_type": "markdown",
   "metadata": {},
   "source": [
    "### Create function to separate values in CommunicationTools and LanguageWorkedWith"
   ]
  },
  {
   "cell_type": "code",
   "execution_count": null,
   "metadata": {},
   "outputs": [],
   "source": [
    "def sep_col_values(df: DataFrame, col: str, sep: str = \";\") -> DataFrame:\n",
    "\n",
    "    col_separated = data.select((F.split(col, sep))).rdd.flatMap(lambda x: x).collect()\n",
    "\n",
    "    col_separated = set(\n",
    "        [item for sublist in col_separated if sublist is not None for item in sublist]\n",
    "    )\n",
    "\n",
    "    return spark.createDataFrame(\n",
    "        col_separated,\n",
    "        schema=T.StringType(),\n",
    "    ).withColumnRenamed(\"value\", \"name\")"
   ]
  },
  {
   "cell_type": "markdown",
   "metadata": {},
   "source": [
    "### Insert data in programming_language"
   ]
  },
  {
   "cell_type": "code",
   "execution_count": 33,
   "metadata": {},
   "outputs": [
    {
     "name": "stdout",
     "output_type": "stream",
     "text": [
      "+----------+\n",
      "|      name|\n",
      "+----------+\n",
      "|        F#|\n",
      "|         C|\n",
      "|   Haskell|\n",
      "|TypeScript|\n",
      "|      Perl|\n",
      "+----------+\n",
      "only showing top 5 rows\n",
      "\n"
     ]
    }
   ],
   "source": [
    "programming_language = sep_col_values(data, \"LanguageWorkedWith\")\n",
    "save_on_database(programming_language, \"programming_language\")\n",
    "programming_language.show(5)"
   ]
  },
  {
   "cell_type": "markdown",
   "metadata": {},
   "source": [
    "### Insert data in communications_tools"
   ]
  },
  {
   "cell_type": "code",
   "execution_count": 37,
   "metadata": {},
   "outputs": [
    {
     "name": "stdout",
     "output_type": "stream",
     "text": [
      "+--------------------+\n",
      "|                name|\n",
      "+--------------------+\n",
      "|Google Hangouts/Chat|\n",
      "|                Jira|\n",
      "|Other wiki tool (...|\n",
      "|Office / producti...|\n",
      "|             HipChat|\n",
      "+--------------------+\n",
      "only showing top 5 rows\n",
      "\n"
     ]
    }
   ],
   "source": [
    "communications_tools = sep_col_values(data, \"CommunicationTools\")\n",
    "save_on_database(communications_tools, \"communications_tools\")\n",
    "communications_tools.show(5)"
   ]
  },
  {
   "cell_type": "markdown",
   "metadata": {},
   "source": [
    "### Create function to separate every language in row"
   ]
  },
  {
   "cell_type": "code",
   "execution_count": 94,
   "metadata": {},
   "outputs": [],
   "source": [
    "def col_list_to_df(df: DataFrame, col: str, sep: str = \";\") -> DataFrame:\n",
    "\n",
    "    data_rdd = (\n",
    "        df.select(\"id\", F.split(col, \";\")).dropna().rdd.collect()\n",
    "    )\n",
    "\n",
    "    data_list = [list(zip([b] * len(c), c)) for b, c in data_rdd]\n",
    "\n",
    "    split_data = [y for x in data_list for y in x]\n",
    "    \n",
    "    return spark.createDataFrame(\n",
    "        split_data,\n",
    "        T.StructType(\n",
    "            [\n",
    "                T.StructField(\"respondent_id\", T.LongType()),\n",
    "                T.StructField(\"name\", T.StringType()),\n",
    "            ]\n",
    "        ),\n",
    "    )"
   ]
  },
  {
   "cell_type": "markdown",
   "metadata": {},
   "source": [
    "#### Create dataframe resp_programming_language"
   ]
  },
  {
   "cell_type": "code",
   "execution_count": 96,
   "metadata": {},
   "outputs": [
    {
     "name": "stdout",
     "output_type": "stream",
     "text": [
      "+-------------+-----------------------+\n",
      "|respondent_id|programming_language_id|\n",
      "+-------------+-----------------------+\n",
      "|       101346|                      9|\n",
      "|       101346|                     15|\n",
      "|       101346|                     22|\n",
      "|       101346|                     11|\n",
      "|       101346|                      1|\n",
      "+-------------+-----------------------+\n",
      "only showing top 5 rows\n",
      "\n"
     ]
    }
   ],
   "source": [
    "programming_language_ref = get_reference_from_database(spark, \"programming_language\")\n",
    "\n",
    "resp_programming_language = col_list_to_df(data, \"LanguageWorkedWith\")\n",
    "\n",
    "@F.udf(returnType=T.IntegerType())\n",
    "def programming_replace_udf(x):\n",
    "    return replace_value(x, programming_language_ref)\n",
    "\n",
    "resp_programming_language = resp_programming_language.withColumn(\n",
    "    \"programming_language_id\",\n",
    "    programming_replace_udf(F.col(\"name\"))\n",
    "    ).drop(\"name\")\n",
    "\n",
    "resp_programming_language.show(5)"
   ]
  },
  {
   "cell_type": "markdown",
   "metadata": {},
   "source": [
    "#### Create dataframe resp_tools"
   ]
  },
  {
   "cell_type": "code",
   "execution_count": 106,
   "metadata": {},
   "outputs": [
    {
     "name": "stdout",
     "output_type": "stream",
     "text": [
      "+-------------+-----------------------+\n",
      "|respondent_id|communications_tools_id|\n",
      "+-------------+-----------------------+\n",
      "|       101346|                      2|\n",
      "|        44791|                      3|\n",
      "|        44791|                     10|\n",
      "|        32306|                     11|\n",
      "|        32306|                      2|\n",
      "+-------------+-----------------------+\n",
      "only showing top 5 rows\n",
      "\n"
     ]
    }
   ],
   "source": [
    "communications_tools_ref = get_reference_from_database(spark, \"communications_tools\")\n",
    "\n",
    "resp_tools = col_list_to_df(data, \"CommunicationTools\")\n",
    "\n",
    "@F.udf(returnType=T.IntegerType())\n",
    "def communication_replace_udf(x):\n",
    "    return replace_value(x, communications_tools_ref)\n",
    "\n",
    "resp_tools = resp_tools.withColumn(\n",
    "    \"communications_tools_id\",\n",
    "    communication_replace_udf(F.col(\"name\"))\n",
    "    ).drop(\"name\")\n",
    "\n",
    "resp_tools.show(5)"
   ]
  }
 ],
 "metadata": {
  "kernelspec": {
   "display_name": "ame-data-engineer-challenge-GmjWWdal-py3.10",
   "language": "python",
   "name": "python3"
  },
  "language_info": {
   "codemirror_mode": {
    "name": "ipython",
    "version": 3
   },
   "file_extension": ".py",
   "mimetype": "text/x-python",
   "name": "python",
   "nbconvert_exporter": "python",
   "pygments_lexer": "ipython3",
   "version": "3.10.12"
  }
 },
 "nbformat": 4,
 "nbformat_minor": 2
}
